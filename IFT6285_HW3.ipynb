{
  "nbformat": 4,
  "nbformat_minor": 0,
  "metadata": {
    "colab": {
      "name": "IFT6285_HW3.ipynb",
      "version": "0.3.2",
      "provenance": [],
      "collapsed_sections": [],
      "include_colab_link": true
    },
    "kernelspec": {
      "display_name": "Python 3",
      "language": "python",
      "name": "python3"
    },
    "accelerator": "GPU"
  },
  "cells": [
    {
      "cell_type": "markdown",
      "metadata": {
        "id": "view-in-github",
        "colab_type": "text"
      },
      "source": [
        "<a href=\"https://colab.research.google.com/github/bhardwaj1230/Deep-Learning-/blob/master/IFT6285_HW3.ipynb\" target=\"_parent\"><img src=\"https://colab.research.google.com/assets/colab-badge.svg\" alt=\"Open In Colab\"/></a>"
      ]
    },
    {
      "cell_type": "markdown",
      "metadata": {
        "colab_type": "text",
        "id": "SqNN2_HVC8G6"
      },
      "source": [
        "## Machine Translation"
      ]
    },
    {
      "cell_type": "markdown",
      "metadata": {
        "colab_type": "text",
        "id": "x8Av55j2crBP"
      },
      "source": [
        "* This notebook is used to solve Homework 3 of the course IFT6285. The problem statement can be found [here](http://www-labs.iro.umontreal.ca/~felipe/IFT6285-Automne2018/frontal.php?page=devoir3.html). We have two sets of sentences (english and french), and a set of labels indicating if a pair is related by translation. We have to build a classification algorithm based on this."
      ]
    },
    {
      "cell_type": "markdown",
      "metadata": {
        "colab_type": "text",
        "id": "5lvI_bAWDKob"
      },
      "source": [
        "We first download the input files and pre-trained word embedding models."
      ]
    },
    {
      "cell_type": "code",
      "metadata": {
        "colab_type": "code",
        "id": "azQqU-gRJs_i",
        "outputId": "b1c244fc-9529-41b1-a735-6a9655e5f73e",
        "colab": {
          "base_uri": "https://localhost:8080/",
          "height": 680
        }
      },
      "source": [
        "!wget https://s3-us-west-1.amazonaws.com/fasttext-vectors/wiki.en.vec\n",
        "!wget https://s3-us-west-1.amazonaws.com/fasttext-vectors/wiki.fr.vec\n",
        "!wget http://www-labs.iro.umontreal.ca/~felipe/IFT6285-Automne2018/tps/tp3/tp3.tar.gz\n",
        "!tar -zxvf tp3.tar.gz"
      ],
      "execution_count": 0,
      "outputs": [
        {
          "output_type": "stream",
          "text": [
            "--2019-03-21 19:59:15--  https://s3-us-west-1.amazonaws.com/fasttext-vectors/wiki.en.vec\n",
            "Resolving s3-us-west-1.amazonaws.com (s3-us-west-1.amazonaws.com)... 52.219.28.41\n",
            "Connecting to s3-us-west-1.amazonaws.com (s3-us-west-1.amazonaws.com)|52.219.28.41|:443... connected.\n",
            "HTTP request sent, awaiting response... 200 OK\n",
            "Length: 6597238061 (6.1G) [binary/octet-stream]\n",
            "Saving to: ‘wiki.en.vec’\n",
            "\n",
            "wiki.en.vec         100%[===================>]   6.14G  16.4MB/s    in 6m 24s  \n",
            "\n",
            "2019-03-21 20:05:40 (16.4 MB/s) - ‘wiki.en.vec’ saved [6597238061/6597238061]\n",
            "\n",
            "--2019-03-21 20:05:41--  https://s3-us-west-1.amazonaws.com/fasttext-vectors/wiki.fr.vec\n",
            "Resolving s3-us-west-1.amazonaws.com (s3-us-west-1.amazonaws.com)... 52.219.112.88\n",
            "Connecting to s3-us-west-1.amazonaws.com (s3-us-west-1.amazonaws.com)|52.219.112.88|:443... connected.\n",
            "HTTP request sent, awaiting response... 200 OK\n",
            "Length: 3027096151 (2.8G) [binary/octet-stream]\n",
            "Saving to: ‘wiki.fr.vec’\n",
            "\n",
            "wiki.fr.vec         100%[===================>]   2.82G  20.9MB/s    in 2m 20s  \n",
            "\n",
            "2019-03-21 20:08:01 (20.7 MB/s) - ‘wiki.fr.vec’ saved [3027096151/3027096151]\n",
            "\n",
            "--2019-03-21 20:08:02--  http://www-labs.iro.umontreal.ca/~felipe/IFT6285-Automne2018/tps/tp3/tp3.tar.gz\n",
            "Resolving www-labs.iro.umontreal.ca (www-labs.iro.umontreal.ca)... 132.204.26.154\n",
            "Connecting to www-labs.iro.umontreal.ca (www-labs.iro.umontreal.ca)|132.204.26.154|:80... connected.\n",
            "HTTP request sent, awaiting response... 200 OK\n",
            "Length: 177959198 (170M) [application/x-gzip]\n",
            "Saving to: ‘tp3.tar.gz’\n",
            "\n",
            "tp3.tar.gz          100%[===================>] 169.71M  26.8MB/s    in 7.4s    \n",
            "\n",
            "2019-03-21 20:08:10 (22.9 MB/s) - ‘tp3.tar.gz’ saved [177959198/177959198]\n",
            "\n",
            "./Data_nobackup/tp3-hardest/test.en\n",
            "./Data_nobackup/tp3-hardest/test.fr\n",
            "./Data_nobackup/tp3-hardest/test.y\n",
            "./Data_nobackup/tp3-hardest/train.en\n",
            "./Data_nobackup/tp3-hardest/train.fr\n",
            "./Data_nobackup/tp3-hardest/train.y\n"
          ],
          "name": "stdout"
        }
      ]
    },
    {
      "cell_type": "code",
      "metadata": {
        "colab_type": "code",
        "id": "opFwUDp4nNXL",
        "outputId": "f48625bb-2d43-4fec-8e74-8218a70f9be9",
        "colab": {
          "base_uri": "https://localhost:8080/",
          "height": 34
        }
      },
      "source": [
        "!ls "
      ],
      "execution_count": 0,
      "outputs": [
        {
          "output_type": "stream",
          "text": [
            "Data_nobackup  sample_data  tp3.tar.gz\twiki.en.vec  wiki.fr.vec\n"
          ],
          "name": "stdout"
        }
      ]
    },
    {
      "cell_type": "markdown",
      "metadata": {
        "colab_type": "text",
        "id": "ykLYBi-yEOT9"
      },
      "source": [
        "We import some libraries."
      ]
    },
    {
      "cell_type": "code",
      "metadata": {
        "colab_type": "code",
        "id": "V6If8y7FKhpS",
        "outputId": "dfd343dd-507e-4709-b966-744942fa2b17",
        "colab": {
          "base_uri": "https://localhost:8080/",
          "height": 34
        }
      },
      "source": [
        "import re\n",
        "import codecs\n",
        "import numpy as np\n",
        "import matplotlib.pyplot as plt\n",
        "from tqdm import tqdm\n",
        "from sklearn.model_selection import train_test_split\n",
        "from sklearn.metrics import roc_auc_score, f1_score\n",
        "from keras.preprocessing.text import Tokenizer\n",
        "from keras.preprocessing.sequence import pad_sequences\n",
        "from keras import backend as K\n",
        "from keras.optimizers import Adadelta\n",
        "from keras.models import Sequential, Model\n",
        "from keras.layers import Dense, Flatten, LSTM, Activation, Bidirectional, Lambda, Input\n",
        "from keras.layers.embeddings import Embedding\n",
        "from keras.layers.merge import concatenate, multiply, average, add, subtract \n",
        "from keras.layers import merge"
      ],
      "execution_count": 0,
      "outputs": [
        {
          "output_type": "stream",
          "text": [
            "Using TensorFlow backend.\n"
          ],
          "name": "stderr"
        }
      ]
    },
    {
      "cell_type": "markdown",
      "metadata": {
        "colab_type": "text",
        "id": "ws_1JEqdEZ9O"
      },
      "source": [
        "We split the documents into words, and get the labels."
      ]
    },
    {
      "cell_type": "code",
      "metadata": {
        "colab_type": "code",
        "id": "GdZBwyFvKuRW",
        "outputId": "3f3224d3-e71e-42b1-ab7e-52c516ba6252",
        "colab": {
          "base_uri": "https://localhost:8080/",
          "height": 85
        }
      },
      "source": [
        "with open('./Data_nobackup/tp3-hardest/train.en') as f:\n",
        "    train_en = [re.sub(r'[^\\w\\s]', '', line).strip(' \\n').lower() for line in tqdm(f)]\n",
        "\n",
        "with open('./Data_nobackup/tp3-hardest/train.fr') as f:\n",
        "    train_fr = [re.sub(r'[^\\w\\s]', '', line).strip(' \\n').lower() for line in tqdm(f)]\n",
        "\n",
        "with open('./Data_nobackup/tp3-hardest/test.en') as f:\n",
        "    test_en = [re.sub(r'[^\\w\\s]', '', line).strip(' \\n').lower() for line in tqdm(f)]\n",
        "\n",
        "with open('./Data_nobackup/tp3-hardest/test.fr') as f:\n",
        "    test_fr = [re.sub(r'[^\\w\\s]', '', line).strip(' \\n').lower() for line in tqdm(f)]\n",
        "\n",
        "train_y = np.loadtxt('./Data_nobackup/tp3-hardest/train.y', dtype='int')\n",
        "test_y = np.loadtxt('./Data_nobackup/tp3-hardest/test.y', dtype='int')"
      ],
      "execution_count": 0,
      "outputs": [
        {
          "output_type": "stream",
          "text": [
            "1038782it [00:05, 180532.18it/s]\n",
            "1038782it [00:08, 129319.80it/s]\n",
            "733789it [00:03, 185177.51it/s]\n",
            "733789it [00:05, 133460.55it/s]\n"
          ],
          "name": "stderr"
        }
      ]
    },
    {
      "cell_type": "markdown",
      "metadata": {
        "colab_type": "text",
        "id": "Y9seB1wmEwn-"
      },
      "source": [
        "Create dictionaries of embeddings."
      ]
    },
    {
      "cell_type": "code",
      "metadata": {
        "colab_type": "code",
        "id": "kqipvRFwNZzY",
        "outputId": "2cb10c9b-748c-48d2-c51b-7c3aa0878933",
        "colab": {
          "base_uri": "https://localhost:8080/",
          "height": 51
        }
      },
      "source": [
        "# code taken from \n",
        "# https://www.kaggle.com/vsmolyakov/keras-cnn-with-fasttext-embeddings\n",
        "\n",
        "en_embeddings_index = {}\n",
        "with codecs.open('wiki.en.vec', encoding='utf-8') as f:\n",
        "    for line in tqdm(f):\n",
        "        values = line.rstrip().rsplit(' ')\n",
        "        word = values[0]\n",
        "        coefs = np.asarray(values[1:], dtype='float32')\n",
        "        en_embeddings_index[word] = coefs\n",
        "\n",
        "fr_embeddings_index = {}\n",
        "with codecs.open('wiki.fr.vec', encoding='utf-8') as f:\n",
        "    for line in tqdm(f):\n",
        "        values = line.rstrip().rsplit(' ')\n",
        "        word = values[0]\n",
        "        coefs = np.asarray(values[1:], dtype='float32')\n",
        "        fr_embeddings_index[word] = coefs"
      ],
      "execution_count": 0,
      "outputs": [
        {
          "output_type": "stream",
          "text": [
            "2519428it [05:40, 7396.48it/s]\n",
            "1152466it [02:38, 7251.96it/s]\n"
          ],
          "name": "stderr"
        }
      ]
    },
    {
      "cell_type": "markdown",
      "metadata": {
        "colab_type": "text",
        "id": "eVWfOEFCFHWg"
      },
      "source": [
        "Define the embedding dimension and sequence lengths for our model."
      ]
    },
    {
      "cell_type": "code",
      "metadata": {
        "colab_type": "code",
        "id": "LZ8gpHBsLcuh",
        "colab": {}
      },
      "source": [
        "embed_dim = 300\n",
        "max_seq_len = 40"
      ],
      "execution_count": 0,
      "outputs": []
    },
    {
      "cell_type": "markdown",
      "metadata": {
        "colab_type": "text",
        "id": "3tRTnVoZG_lT"
      },
      "source": [
        "We tokenize the documents, pad them so that they have the same length, create martrices of word embeddings according to the tokenized indices."
      ]
    },
    {
      "cell_type": "code",
      "metadata": {
        "colab_type": "code",
        "id": "gVLIYqORKmpj",
        "colab": {}
      },
      "source": [
        "tokenizer_en = Tokenizer(lower=True, char_level=False)\n",
        "tokenizer_en.fit_on_texts(train_en) \n",
        "word_seq_train_en = tokenizer_en.texts_to_sequences(train_en)\n",
        "word_seq_test_en = tokenizer_en.texts_to_sequences(test_en)\n",
        "word_index_en = tokenizer_en.word_index\n",
        "#pad sequences\n",
        "word_seq_train_en = pad_sequences(word_seq_train_en, maxlen=max_seq_len)\n",
        "word_seq_test_en = pad_sequences(word_seq_test_en, maxlen=max_seq_len)\n",
        "\n",
        "en_words_not_found = []\n",
        "nb_words_en = len(word_index_en) + 1\n",
        "en_embedding_matrix = np.zeros((nb_words_en, embed_dim))\n",
        "for word, i in word_index_en.items():\n",
        "    if i >= nb_words_en:\n",
        "        continue\n",
        "    embedding_vector = en_embeddings_index.get(word)\n",
        "    if (embedding_vector is not None) and len(embedding_vector) > 0:\n",
        "        # words not found in embedding index will be all-zeros.\n",
        "        en_embedding_matrix[i] = embedding_vector\n",
        "    else:\n",
        "        en_words_not_found.append(word)"
      ],
      "execution_count": 0,
      "outputs": []
    },
    {
      "cell_type": "code",
      "metadata": {
        "colab_type": "code",
        "id": "PRv3R12krJP6",
        "colab": {}
      },
      "source": [
        "tokenizer_fr = Tokenizer(lower=True, char_level=False)\n",
        "tokenizer_fr.fit_on_texts(train_fr)\n",
        "word_seq_train_fr = tokenizer_fr.texts_to_sequences(train_fr)\n",
        "word_seq_test_fr = tokenizer_fr.texts_to_sequences(test_fr)\n",
        "word_index_fr = tokenizer_fr.word_index\n",
        "#pad sequences\n",
        "word_seq_train_fr = pad_sequences(word_seq_train_fr, maxlen=max_seq_len)\n",
        "word_seq_test_fr = pad_sequences(word_seq_test_fr, maxlen=max_seq_len)\n",
        "\n",
        "fr_words_not_found = []\n",
        "nb_words_fr = len(word_index_fr) + 1\n",
        "fr_embedding_matrix = np.zeros((nb_words_fr, embed_dim))\n",
        "for word, i in word_index_fr.items():\n",
        "    if i >= nb_words_fr:\n",
        "        continue\n",
        "    embedding_vector = fr_embeddings_index.get(word)\n",
        "    if (embedding_vector is not None) and len(embedding_vector) > 0:\n",
        "        # words not found in embedding index will be all-zeros.\n",
        "        fr_embedding_matrix[i] = embedding_vector\n",
        "    else:\n",
        "        fr_words_not_found.append(word)"
      ],
      "execution_count": 0,
      "outputs": []
    },
    {
      "cell_type": "code",
      "metadata": {
        "colab_type": "code",
        "id": "T_JNmNzRsC5d",
        "outputId": "bddda8a2-b5a5-4891-f548-91b6e933f2ad",
        "colab": {
          "base_uri": "https://localhost:8080/",
          "height": 34
        }
      },
      "source": [
        "en_embedding_matrix.shape, fr_embedding_matrix.shape"
      ],
      "execution_count": 0,
      "outputs": [
        {
          "output_type": "execute_result",
          "data": {
            "text/plain": [
              "((54401, 300), (87619, 300))"
            ]
          },
          "metadata": {
            "tags": []
          },
          "execution_count": 12
        }
      ]
    },
    {
      "cell_type": "markdown",
      "metadata": {
        "colab_type": "text",
        "id": "G8LKK_iIJSe0"
      },
      "source": [
        "Create training and validation sets."
      ]
    },
    {
      "cell_type": "code",
      "metadata": {
        "colab_type": "code",
        "id": "iDyTQ4zDgnFi",
        "colab": {}
      },
      "source": [
        "X_en_train, X_en_valid, X_fr_train, X_fr_valid, y_train, y_valid = \\\n",
        "    train_test_split(word_seq_train_en, word_seq_train_fr, train_y, test_size=0.3, stratify=train_y)"
      ],
      "execution_count": 0,
      "outputs": []
    },
    {
      "cell_type": "code",
      "metadata": {
        "colab_type": "code",
        "id": "QCQJ5axlV6HV",
        "colab": {}
      },
      "source": [
        "def add_noise(mat_a, mat_b, label, noise_ratio):\n",
        "    n = mat_a.shape[0]\n",
        "    ind1 = np.where(label == 1)[0]\n",
        "    ind0 = np.where(label == 0)[0]\n",
        "    if len(ind1) * noise_ratio <= len(ind0):\n",
        "        return mat_a, mat_b, label\n",
        "    while True:\n",
        "        ind = np.random.randint(0, n, size=((noise_ratio+1)*len(ind1), 2))\n",
        "        ind = np.unique(ind, axis=0)\n",
        "        ne = np.where(ind[:, 0] != ind[:, 1])[0][:(noise_ratio*len(ind1)-len(ind0))]\n",
        "        if ne.shape[0] == noise_ratio*len(ind1)-len(ind0): break\n",
        "    ind = ind[ne]\n",
        "    mat_a_fake = mat_a[ind[:, 0]]\n",
        "    mat_b_fake = mat_b[ind[:, 1]]\n",
        "    mat_a_aug = np.vstack([mat_a, mat_a_fake])\n",
        "    mat_b_aug = np.vstack([mat_b, mat_b_fake])\n",
        "    label_aug = np.hstack([label, np.zeros(noise_ratio*len(ind1)-len(ind0), dtype='int')])\n",
        "    return mat_a_aug, mat_b_aug, label_aug\n",
        "\n",
        "  \n",
        "word_seq_train_en_aug, word_seq_train_fr_aug, train_y_aug = \\\n",
        "    add_noise(word_seq_train_en, word_seq_train_fr, train_y, noise_ratio=20)\n",
        "X_en_train, X_en_valid, X_fr_train, X_fr_valid, y_train, y_valid = \\\n",
        "    train_test_split(word_seq_train_en_aug, word_seq_train_fr_aug, train_y_aug, test_size=0.3, stratify=train_y_aug)"
      ],
      "execution_count": 0,
      "outputs": []
    },
    {
      "cell_type": "markdown",
      "metadata": {
        "colab_type": "text",
        "id": "fUO_1dSxI6CX"
      },
      "source": [
        "### Base Model\n",
        "\n",
        "For our base model, we take the average of the English and French word embeddings and pass it through two dense hidden layers with sigmoid activation functions. After 30 epochs, this model achieves 90% validation accuracy."
      ]
    },
    {
      "cell_type": "code",
      "metadata": {
        "colab_type": "code",
        "id": "ez3KqML32p7X",
        "outputId": "a27ec0d8-1447-45e2-cbb4-e4ac509c8c5b",
        "colab": {}
      },
      "source": [
        "input_en = Input(shape=(max_seq_len, ), name='en')\n",
        "input_fr = Input(shape=(max_seq_len, ), name='fr')\n",
        "#Embedding layers\n",
        "emb_en = Embedding(nb_words_en, embed_dim, weights=[en_embedding_matrix], input_length=(max_seq_len, ), trainable=False)(input_en)\n",
        "emb_fr = Embedding(nb_words_fr, embed_dim, weights=[fr_embedding_matrix], input_length=(max_seq_len, ), trainable=False)(input_fr)\n",
        "emb_mean = average([emb_en, emb_fr])\n",
        "dense = Dense(150, activation='sigmoid')(emb_mean)\n",
        "flt = Flatten()(dense)\n",
        "output = Dense(1, activation='sigmoid')(flt)\n",
        "base_model = Model(inputs=[input_en, input_fr], outputs=output)\n",
        "base_model.compile(optimizer='adam', loss='binary_crossentropy', metrics=['accuracy'])\n",
        "base_model.fit([X_en_train, X_fr_train], y_train, batch_size=300, epochs=10, validation_data=([X_en_valid, X_fr_valid], y_valid), verbose=1)"
      ],
      "execution_count": 0,
      "outputs": [
        {
          "output_type": "stream",
          "text": [
            "Train on 6851640 samples, validate on 2936418 samples\n",
            "Epoch 1/10\n",
            "6851640/6851640 [==============================] - 926s 135us/step - loss: 0.1180 - acc: 0.9629 - val_loss: 0.0821 - val_acc: 0.9738\n",
            "Epoch 2/10\n",
            "1651500/6851640 [======>.......................] - ETA: 8:58 - loss: 0.0792 - acc: 0.9746"
          ],
          "name": "stdout"
        }
      ]
    },
    {
      "cell_type": "code",
      "metadata": {
        "colab_type": "code",
        "id": "kymEpksnQQjz",
        "outputId": "ceb95a59-a468-46b1-b5be-a3c51bd87b26",
        "colab": {
          "base_uri": "https://localhost:8080/",
          "height": 365
        }
      },
      "source": [
        "plt.figure(figsize=(15, 5))\n",
        "plt.subplot(1, 2, 1)\n",
        "plt.xticks(fontsize=16)\n",
        "plt.yticks(fontsize=16)\n",
        "plt.plot(range(1, 31), base_model.history.history['loss'], label='Training Loss')\n",
        "plt.plot(range(1, 31), base_model.history.history['val_loss'], label='Validation Loss')\n",
        "plt.legend(prop={'size':16})\n",
        "plt.title(\"Loss\", fontsize=24)\n",
        "plt.subplot(1, 2, 2)\n",
        "plt.xticks(fontsize=16)\n",
        "plt.yticks(fontsize=16)\n",
        "plt.plot(range(1, 31), base_model.history.history['acc'], label='Training Accuracy')\n",
        "plt.plot(range(1, 31), base_model.history.history['val_acc'], label='Validation Accuracy')\n",
        "plt.legend(loc=4, prop={'size':16})\n",
        "plt.title(\"Accuracy\", fontsize=24)\n",
        "plt.tight_layout()"
      ],
      "execution_count": 0,
      "outputs": [
        {
          "output_type": "display_data",
          "data": {
            "image/png": "[encoded data removed]",
            "text/plain": [
              "<matplotlib.figure.Figure at 0x7fcf33e08390>"
            ]
          },
          "metadata": {
            "tags": []
          }
        }
      ]
    },
    {
      "cell_type": "markdown",
      "metadata": {
        "colab_type": "text",
        "id": "MHea_mh8Jr1t"
      },
      "source": [
        "### Main Model\n",
        "\n",
        "We use bidirectional LSTMs with dropouts for our main model. After creating separate representations for english and french words, we take their absolute difference and elementwise product, take their sum, and pass it through two dense hidden layers. We see this improves significantly upon our base model accuracy."
      ]
    },
    {
      "cell_type": "code",
      "metadata": {
        "colab_type": "code",
        "id": "VllbTUxf7HyP",
        "colab": {}
      },
      "source": [
        "def abs_diff(l):\n",
        "    ''' Helper function for the similarity estimate of the LSTMs outputs '''\n",
        "    return K.abs(subtract(l))"
      ],
      "execution_count": 0,
      "outputs": []
    },
    {
      "cell_type": "code",
      "metadata": {
        "colab_type": "code",
        "id": "v-Rv9X0wsGpi",
        "outputId": "da8e32ef-b579-4d54-8a0e-b8c8e3b27bb2",
        "colab": {
          "base_uri": "https://localhost:8080/",
          "height": 68
        }
      },
      "source": [
        "#Placeholders\n",
        "input_en = Input(shape=(max_seq_len, ), name='en')\n",
        "input_fr = Input(shape=(max_seq_len, ), name='fr')\n",
        "#Embedding layers\n",
        "emb_en = Embedding(nb_words_en, embed_dim, weights=[en_embedding_matrix], \n",
        "                   input_length=(max_seq_len, ), trainable=False)(input_en)\n",
        "emb_fr = Embedding(nb_words_fr, embed_dim, weights=[fr_embedding_matrix], \n",
        "                   input_length=(max_seq_len, ), trainable=False)(input_fr)\n",
        "#LSTM layers\n",
        "lstm_en = Bidirectional(LSTM(embed_dim, dropout=0.2, \n",
        "                             recurrent_dropout=0.3, \n",
        "                             return_sequences=False))(emb_en)\n",
        "lstm_fr = Bidirectional(LSTM(embed_dim, dropout=0.2, \n",
        "                             recurrent_dropout=0.3, \n",
        "                             return_sequences=False))(emb_fr)\n",
        "#Absolute difference\n",
        "elem_diff = Lambda(abs_diff)([lstm_en, lstm_fr])\n",
        "#Elementwise product\n",
        "elem_prod = multiply([lstm_en, lstm_fr])\n",
        "#Feedforward and add\n",
        "dense1 = Dense(150, use_bias=False)(elem_diff)\n",
        "dense2 = Dense(150, use_bias=False)(elem_prod)\n",
        "dense_sum = add([dense1, dense2])\n",
        "dense_out = Dense(75, activation='tanh')(dense_sum)\n",
        "output = Dense(1, activation='sigmoid')(dense_out)\n",
        "model = Model(inputs=[input_en, input_fr], outputs=output)\n",
        "opt = Adadelta(clipnorm=5)\n",
        "model.compile(optimizer=opt, loss='binary_crossentropy', metrics=['accuracy'])\n",
        "#model.fit([X_en_train, X_fr_train], y_train, batch_size=300, epochs=10,\n",
        "#          validation_data=([X_en_valid, X_fr_valid], y_valid), verbose=1)\n",
        "model.fit([word_seq_train_en, word_seq_train_fr], train_y, batch_size=300, epochs=1, verbose=1)"
      ],
      "execution_count": 0,
      "outputs": [
        {
          "output_type": "stream",
          "text": [
            "Epoch 1/1\n",
            "1038782/1038782 [==============================] - 1498s 1ms/step - loss: 0.1729 - acc: 0.9270\n"
          ],
          "name": "stdout"
        },
        {
          "output_type": "execute_result",
          "data": {
            "text/plain": [
              "<keras.callbacks.History at 0x7fe3e3b10860>"
            ]
          },
          "metadata": {
            "tags": []
          },
          "execution_count": 15
        }
      ]
    },
    {
      "cell_type": "code",
      "metadata": {
        "id": "F8OfrMrM4FZv",
        "colab_type": "code",
        "outputId": "5bfd6a33-dc92-4246-83c3-b44e99d95268",
        "colab": {
          "base_uri": "https://localhost:8080/",
          "height": 34
        }
      },
      "source": [
        "# serialize model to JSON\n",
        "model_json = model.to_json()\n",
        "with open(\"model.json\", \"w\") as json_file:\n",
        "    json_file.write(model_json)\n",
        "# serialize weights to HDF5\n",
        "model.save_weights(\"model.h5\")\n",
        "print(\"Saved model to disk\")"
      ],
      "execution_count": 0,
      "outputs": [
        {
          "output_type": "stream",
          "text": [
            "Saved model to disk\n"
          ],
          "name": "stdout"
        }
      ]
    },
    {
      "cell_type": "code",
      "metadata": {
        "colab_type": "code",
        "id": "ku5APVLexhBd",
        "outputId": "53e72a3a-2f23-4194-e198-054a0f8dba1a",
        "colab": {
          "base_uri": "https://localhost:8080/",
          "height": 365
        }
      },
      "source": [
        "plt.figure(figsize=(15, 5))\n",
        "plt.subplot(1, 2, 1)\n",
        "plt.xticks(fontsize=16)\n",
        "plt.yticks(fontsize=16)\n",
        "plt.plot(range(1, 11), model.history.history['loss'], label='Training Loss')\n",
        "plt.plot(range(1, 11), model.history.history['val_loss'], label='Validation Loss')\n",
        "plt.legend(loc=1, prop={'size':16})\n",
        "plt.title(\"Loss\", fontsize=24)\n",
        "plt.subplot(1, 2, 2)\n",
        "plt.xticks(fontsize=16)\n",
        "plt.yticks(fontsize=16)\n",
        "plt.plot(range(1, 11), model.history.history['acc'], label='Training Accuracy')\n",
        "plt.plot(range(1, 11), model.history.history['val_acc'], label='Validation Accuracy')\n",
        "plt.title(\"Accuracy\", fontsize=24)\n",
        "plt.legend(loc=4, prop={'size':16})\n",
        "plt.tight_layout()"
      ],
      "execution_count": 0,
      "outputs": [
        {
          "output_type": "display_data",
          "data": {
            "image/png": "[encoded data removed]",
            "text/plain": [
              "<matplotlib.figure.Figure at 0x7fcf2c47deb8>"
            ]
          },
          "metadata": {
            "tags": []
          }
        }
      ]
    },
    {
      "cell_type": "markdown",
      "metadata": {
        "colab_type": "text",
        "id": "IwSJFQx2Kase"
      },
      "source": [
        "We pick a threshold that maximizes the F1 score on the validation set, and use that threshold to calculate the F1 score on the test set."
      ]
    },
    {
      "cell_type": "code",
      "metadata": {
        "colab_type": "code",
        "id": "UK6GWZIiELxp",
        "outputId": "6edf40db-9e33-4b84-ec73-d3dbd45faa9d",
        "colab": {
          "base_uri": "https://localhost:8080/",
          "height": 51
        }
      },
      "source": [
        "probs = model.predict([word_seq_test_en, word_seq_test_fr], verbose=1, batch_size=2000).ravel()\n",
        "d = {}\n",
        "for t in np.linspace(0, 0.99, 100):\n",
        "    pred_y = (probs > t) * 1\n",
        "    d[f1_score(test_y, pred_y)] = t\n",
        "print(d[max(d)], max(d))\n",
        "\n",
        "thres = d[max(d)]"
      ],
      "execution_count": 0,
      "outputs": [
        {
          "output_type": "stream",
          "text": [
            "733789/733789 [==============================] - 210s 286us/step\n",
            "0.6900000000000001 0.9751603484623108\n"
          ],
          "name": "stdout"
        }
      ]
    },
    {
      "cell_type": "code",
      "metadata": {
        "colab_type": "code",
        "id": "xsPP3tWWF09Z",
        "outputId": "3e2d3953-801f-43e6-ac85-883363e4f799",
        "colab": {
          "base_uri": "https://localhost:8080/",
          "height": 343
        }
      },
      "source": [
        "!wget http://www-labs.iro.umontreal.ca/~felipe/IFT6285-Automne2018/tps/test.tar.gz\n",
        "!tar -zxvf test.tar.gz\n",
        "\n",
        "with open('test.en') as f:\n",
        "    test__en = [re.sub(r'[^\\w\\s]', '', line).strip(' \\n').lower() for line in tqdm(f)]\n",
        "\n",
        "with open('test.fr') as f:\n",
        "    test__fr = [re.sub(r'[^\\w\\s]', '', line).strip(' \\n').lower() for line in tqdm(f)]\n",
        "\n",
        "word_seq_test__en = tokenizer_en.texts_to_sequences(test__en)\n",
        "word_seq_test__en = pad_sequences(word_seq_test__en, maxlen=max_seq_len)\n",
        "\n",
        "word_seq_test__fr = tokenizer_fr.texts_to_sequences(test__fr)\n",
        "word_seq_test__fr = pad_sequences(word_seq_test__fr, maxlen=max_seq_len)\n",
        "\n",
        "probs = model.predict([word_seq_test__en, word_seq_test__fr], verbose=1, batch_size=2000).ravel()\n",
        "pred_y = (probs > thres) * 1\n",
        "\n",
        "print(np.sum(pred_y))\n",
        "\n",
        "print(pred_y)"
      ],
      "execution_count": 0,
      "outputs": [
        {
          "output_type": "stream",
          "text": [
            "--2019-01-05 22:32:36--  http://www-labs.iro.umontreal.ca/~felipe/IFT6285-Automne2018/tps/test.tar.gz\n",
            "Resolving www-labs.iro.umontreal.ca (www-labs.iro.umontreal.ca)... 132.204.26.154\n",
            "Connecting to www-labs.iro.umontreal.ca (www-labs.iro.umontreal.ca)|132.204.26.154|:80... connected.\n",
            "HTTP request sent, awaiting response... 200 OK\n",
            "Length: 366422 (358K) [application/x-gzip]\n",
            "Saving to: ‘test.tar.gz’\n",
            "\n",
            "\rtest.tar.gz           0%[                    ]       0  --.-KB/s               \rtest.tar.gz          23%[===>                ]  85.24K   317KB/s               \rtest.tar.gz          69%[============>       ] 249.56K   522KB/s               \rtest.tar.gz         100%[===================>] 357.83K   652KB/s    in 0.5s    \n",
            "\n",
            "2019-01-05 22:32:37 (652 KB/s) - ‘test.tar.gz’ saved [366422/366422]\n",
            "\n",
            "./test.fr\n",
            "./test.en\n"
          ],
          "name": "stdout"
        },
        {
          "output_type": "stream",
          "text": [
            "4500it [00:00, 195146.43it/s]\n",
            "4500it [00:00, 158356.63it/s]\n"
          ],
          "name": "stderr"
        },
        {
          "output_type": "stream",
          "text": [
            "4500/4500 [==============================] - 1s 309us/step\n",
            "3846\n",
            "[1 1 1 ... 1 1 1]\n"
          ],
          "name": "stdout"
        }
      ]
    },
    {
      "cell_type": "code",
      "metadata": {
        "colab_type": "code",
        "id": "kP0xsT7wF04_",
        "colab": {}
      },
      "source": [
        "np.savetxt(\"pred.y\", pred_y, delimiter=\",\", fmt=\"%d\")"
      ],
      "execution_count": 0,
      "outputs": []
    },
    {
      "cell_type": "code",
      "metadata": {
        "colab_type": "code",
        "id": "pluEeufriKW3",
        "outputId": "0ad2c006-5a2c-4269-8189-dfc6d8fb7235",
        "colab": {
          "base_uri": "https://localhost:8080/",
          "height": 54
        }
      },
      "source": [
        "print(pred_y.tolist())"
      ],
      "execution_count": 0,
      "outputs": [
        {
          "output_type": "stream",
          "text": [
            "[1, 1, 1, 1, 1, 1, 1, 1, 1, 1, 1, 1, 1, 1, 0, 1, 1, 1, 1, 1, 1, 1, 1, 1, 1, 1, 1, 1, 1, 1, 1, 1, 1, 1, 1, 1, 1, 1, 1, 1, 1, 1, 1, 1, 1, 1, 1, 1, 1, 1, 1, 1, 1, 1, 1, 1, 1, 1, 1, 1, 1, 1, 1, 1, 1, 1, 1, 1, 1, 1, 1, 1, 1, 1, 1, 1, 1, 1, 1, 1, 1, 1, 1, 1, 1, 1, 1, 1, 1, 1, 1, 1, 1, 1, 1, 1, 1, 1, 1, 1, 1, 1, 1, 1, 1, 1, 1, 1, 1, 1, 1, 1, 1, 1, 1, 1, 1, 1, 1, 1, 1, 1, 1, 1, 1, 1, 1, 1, 1, 1, 1, 1, 1, 1, 1, 1, 1, 1, 1, 1, 1, 1, 1, 1, 1, 1, 1, 1, 1, 1, 1, 1, 1, 1, 1, 1, 1, 1, 1, 1, 1, 1, 1, 1, 1, 1, 1, 1, 1, 1, 1, 1, 1, 1, 1, 1, 1, 1, 1, 1, 1, 1, 1, 1, 1, 1, 1, 1, 1, 1, 1, 1, 1, 1, 1, 1, 1, 1, 1, 1, 1, 1, 1, 1, 1, 1, 1, 1, 1, 1, 1, 1, 1, 1, 1, 1, 1, 1, 1, 1, 1, 1, 1, 1, 1, 1, 1, 1, 1, 1, 1, 1, 1, 1, 1, 1, 1, 1, 1, 1, 1, 1, 1, 1, 1, 1, 1, 1, 1, 1, 1, 1, 1, 1, 1, 1, 1, 1, 1, 1, 1, 1, 1, 1, 1, 1, 1, 1, 1, 1, 1, 1, 1, 1, 1, 1, 1, 1, 1, 1, 1, 1, 1, 1, 1, 1, 1, 1, 1, 1, 1, 1, 1, 1, 1, 1, 1, 0, 1, 1, 1, 1, 1, 1, 1, 1, 1, 1, 1, 1, 1, 1, 1, 1, 1, 1, 1, 1, 1, 1, 1, 1, 1, 1, 1, 1, 1, 1, 1, 0, 1, 1, 1, 1, 1, 1, 1, 1, 1, 1, 1, 1, 1, 1, 1, 1, 1, 1, 1, 1, 1, 1, 1, 1, 1, 1, 1, 1, 1, 1, 1, 1, 1, 1, 1, 1, 1, 1, 1, 1, 1, 1, 1, 1, 1, 1, 1, 1, 1, 1, 1, 1, 1, 1, 1, 1, 1, 1, 1, 1, 1, 1, 1, 1, 1, 1, 1, 1, 1, 1, 1, 1, 1, 1, 1, 1, 1, 1, 1, 1, 1, 1, 1, 1, 1, 1, 1, 1, 1, 1, 1, 1, 1, 1, 1, 1, 1, 1, 1, 1, 1, 1, 1, 1, 1, 1, 1, 1, 1, 1, 1, 1, 1, 1, 1, 1, 1, 1, 1, 1, 1, 1, 1, 1, 1, 1, 1, 1, 1, 1, 1, 1, 1, 1, 1, 1, 1, 1, 1, 1, 1, 1, 1, 1, 1, 1, 1, 1, 1, 1, 1, 1, 1, 1, 1, 1, 1, 1, 1, 1, 1, 1, 1, 1, 1, 1, 1, 1, 1, 1, 1, 1, 1, 1, 1, 1, 1, 1, 1, 1, 1, 1, 1, 1, 1, 1, 1, 1, 1, 1, 1, 1, 1, 1, 1, 1, 1, 1, 1, 1, 1, 1, 1, 1, 1, 1, 1, 1, 1, 1, 1, 1, 1, 1, 1, 1, 1, 1, 1, 1, 1, 1, 1, 1, 1, 1, 1, 1, 1, 1, 1, 1, 1, 1, 1, 1, 1, 1, 1, 1, 1, 1, 1, 1, 1, 1, 1, 1, 1, 1, 1, 1, 1, 1, 1, 1, 1, 1, 1, 1, 1, 1, 1, 1, 1, 1, 1, 1, 1, 1, 1, 1, 1, 1, 1, 1, 1, 1, 1, 1, 1, 1, 1, 1, 1, 1, 1, 1, 1, 1, 1, 1, 1, 1, 1, 1, 1, 1, 1, 1, 1, 1, 1, 1, 1, 1, 1, 1, 1, 1, 1, 1, 1, 1, 1, 1, 1, 1, 1, 1, 1, 1, 1, 1, 1, 1, 1, 1, 0, 1, 1, 1, 1, 1, 1, 1, 1, 1, 1, 1, 0, 1, 0, 1, 1, 1, 1, 1, 1, 1, 1, 1, 0, 1, 0, 1, 1, 1, 1, 1, 1, 1, 1, 1, 1, 1, 1, 1, 1, 1, 1, 1, 1, 1, 1, 1, 1, 1, 1, 1, 1, 1, 1, 1, 1, 1, 1, 1, 1, 1, 1, 1, 1, 1, 1, 1, 1, 1, 1, 1, 1, 1, 1, 1, 1, 1, 0, 0, 1, 1, 1, 1, 1, 1, 1, 1, 1, 1, 1, 1, 1, 1, 1, 1, 1, 1, 1, 1, 1, 1, 1, 1, 1, 1, 1, 1, 1, 1, 1, 1, 1, 1, 1, 1, 1, 1, 1, 1, 1, 1, 1, 1, 1, 1, 1, 1, 1, 1, 1, 1, 1, 1, 1, 1, 1, 1, 1, 1, 1, 1, 1, 1, 1, 1, 1, 1, 1, 1, 1, 1, 1, 1, 1, 1, 1, 1, 1, 1, 1, 1, 1, 1, 1, 1, 1, 1, 1, 1, 1, 1, 1, 1, 1, 1, 1, 1, 1, 1, 1, 1, 1, 1, 1, 1, 1, 1, 1, 1, 1, 1, 1, 1, 1, 1, 1, 1, 1, 1, 1, 1, 1, 1, 1, 1, 1, 1, 1, 1, 1, 1, 1, 1, 1, 1, 1, 1, 1, 1, 1, 1, 1, 1, 1, 1, 1, 1, 1, 1, 1, 1, 1, 1, 1, 1, 1, 1, 1, 1, 1, 1, 1, 1, 1, 1, 1, 1, 1, 1, 1, 1, 1, 1, 1, 1, 1, 1, 1, 1, 1, 1, 1, 1, 1, 1, 1, 1, 1, 1, 1, 1, 1, 1, 1, 1, 1, 1, 1, 1, 1, 1, 1, 1, 1, 1, 1, 1, 1, 1, 1, 1, 1, 1, 1, 1, 1, 1, 1, 1, 1, 1, 1, 1, 1, 1, 1, 1, 1, 1, 1, 1, 1, 1, 1, 1, 1, 1, 1, 1, 1, 1, 1, 1, 1, 1, 1, 1, 1, 1, 1, 1, 1, 1, 1, 1, 1, 1, 1, 1, 1, 1, 0, 0, 1, 0, 0, 0, 0, 0, 0, 0, 0, 0, 0, 0, 0, 0, 0, 0, 1, 0, 0, 0, 1, 0, 1, 1, 0, 0, 0, 0, 0, 1, 0, 1, 0, 1, 1, 1, 0, 0, 0, 0, 0, 1, 0, 0, 0, 0, 0, 0, 0, 1, 0, 0, 0, 0, 0, 0, 0, 0, 0, 1, 0, 1, 1, 1, 1, 0, 1, 0, 0, 0, 0, 0, 1, 1, 0, 0, 0, 0, 0, 1, 0, 0, 0, 0, 0, 0, 0, 0, 0, 1, 0, 0, 0, 0, 0, 1, 0, 1, 1, 0, 1, 0, 0, 1, 0, 0, 0, 0, 1, 0, 0, 1, 0, 0, 0, 1, 0, 0, 0, 0, 0, 1, 0, 0, 0, 1, 0, 0, 0, 1, 0, 0, 0, 0, 0, 0, 0, 0, 0, 1, 0, 0, 0, 0, 1, 1, 0, 0, 0, 1, 0, 0, 1, 0, 1, 0, 1, 0, 1, 0, 0, 0, 0, 0, 1, 0, 0, 0, 0, 0, 0, 0, 0, 0, 0, 0, 1, 0, 0, 0, 1, 0, 0, 0, 0, 0, 0, 0, 1, 1, 0, 0, 0, 0, 0, 1, 0, 0, 0, 1, 1, 0, 0, 0, 1, 1, 0, 1, 0, 0, 1, 0, 0, 1, 0, 0, 0, 0, 0, 0, 1, 1, 0, 0, 1, 0, 0, 0, 1, 1, 1, 0, 0, 0, 0, 1, 1, 0, 0, 0, 0, 0, 0, 0, 0, 0, 0, 0, 0, 1, 0, 0, 1, 0, 0, 0, 0, 0, 1, 1, 0, 0, 0, 0, 1, 0, 1, 0, 1, 0, 0, 0, 1, 0, 0, 1, 1, 1, 1, 0, 0, 0, 0, 0, 0, 0, 0, 0, 1, 0, 0, 1, 0, 0, 0, 1, 1, 0, 1, 0, 0, 0, 0, 0, 0, 0, 0, 1, 0, 0, 1, 0, 0, 1, 0, 0, 0, 0, 1, 0, 0, 0, 0, 0, 0, 1, 0, 1, 0, 0, 1, 0, 0, 0, 0, 0, 0, 0, 1, 0, 0, 0, 1, 0, 0, 0, 0, 0, 0, 1, 0, 0, 0, 0, 1, 1, 0, 1, 1, 0, 0, 0, 0, 1, 0, 0, 0, 1, 0, 0, 0, 1, 1, 0, 0, 1, 0, 1, 1, 0, 1, 0, 1, 0, 1, 1, 1, 1, 0, 1, 0, 0, 0, 0, 0, 0, 0, 0, 0, 0, 0, 0, 0, 0, 1, 0, 0, 0, 1, 0, 0, 0, 0, 1, 0, 1, 1, 0, 0, 0, 1, 0, 1, 1, 1, 0, 0, 0, 1, 0, 0, 0, 1, 1, 0, 0, 0, 1, 0, 0, 1, 0, 1, 1, 1, 0, 0, 1, 0, 1, 0, 0, 0, 0, 0, 0, 0, 0, 0, 0, 0, 0, 0, 0, 0, 1, 0, 1, 0, 0, 0, 0, 0, 0, 0, 1, 0, 0, 1, 0, 0, 0, 0, 1, 0, 0, 0, 0, 1, 0, 0, 1, 0, 0, 0, 1, 0, 0, 1, 1, 1, 1, 1, 1, 1, 1, 1, 1, 1, 1, 1, 1, 1, 1, 1, 1, 1, 1, 1, 1, 1, 1, 1, 1, 1, 1, 1, 1, 1, 1, 1, 1, 1, 1, 1, 1, 1, 1, 1, 1, 1, 1, 1, 1, 1, 1, 1, 1, 1, 1, 1, 1, 1, 1, 1, 1, 1, 1, 1, 1, 1, 1, 1, 1, 1, 1, 1, 1, 1, 1, 1, 1, 1, 1, 1, 1, 1, 1, 1, 1, 1, 1, 1, 1, 1, 1, 1, 1, 1, 1, 1, 1, 1, 1, 1, 1, 1, 1, 1, 1, 1, 1, 1, 1, 1, 1, 1, 1, 1, 1, 1, 1, 1, 1, 1, 1, 1, 1, 1, 1, 1, 1, 1, 1, 1, 1, 1, 0, 1, 1, 1, 1, 1, 1, 1, 1, 1, 1, 1, 1, 1, 1, 1, 1, 1, 1, 1, 1, 1, 1, 1, 1, 1, 1, 1, 1, 1, 1, 1, 1, 1, 1, 1, 1, 1, 1, 1, 1, 1, 1, 1, 1, 1, 1, 1, 1, 1, 1, 1, 1, 1, 1, 1, 1, 1, 1, 1, 1, 1, 1, 1, 1, 1, 1, 1, 1, 1, 1, 1, 1, 1, 1, 1, 1, 1, 1, 1, 0, 1, 1, 1, 1, 1, 1, 1, 1, 1, 1, 1, 1, 1, 1, 1, 1, 1, 1, 1, 1, 1, 1, 1, 1, 1, 1, 1, 1, 1, 1, 1, 1, 1, 1, 1, 1, 1, 1, 1, 1, 1, 1, 1, 1, 1, 1, 1, 0, 1, 1, 1, 1, 1, 1, 1, 1, 1, 1, 1, 1, 1, 1, 1, 1, 1, 1, 1, 1, 1, 1, 1, 1, 1, 1, 1, 1, 1, 1, 1, 1, 1, 1, 1, 1, 1, 1, 1, 1, 1, 1, 1, 1, 1, 1, 1, 1, 1, 1, 1, 1, 1, 1, 1, 1, 1, 1, 1, 1, 1, 1, 1, 1, 1, 1, 1, 1, 1, 1, 1, 1, 1, 1, 1, 1, 1, 1, 1, 1, 1, 1, 1, 1, 1, 1, 1, 1, 1, 1, 1, 1, 1, 1, 1, 1, 1, 1, 1, 1, 1, 1, 1, 1, 1, 1, 1, 1, 1, 1, 1, 1, 1, 1, 1, 1, 1, 1, 1, 1, 1, 1, 1, 1, 1, 1, 1, 1, 1, 1, 1, 1, 1, 1, 1, 1, 1, 1, 1, 1, 1, 1, 1, 1, 1, 1, 1, 1, 1, 1, 1, 1, 1, 1, 1, 1, 1, 1, 1, 1, 1, 1, 1, 1, 1, 1, 1, 1, 1, 1, 1, 1, 1, 1, 1, 1, 1, 1, 1, 1, 1, 1, 1, 1, 1, 1, 1, 1, 1, 1, 1, 1, 1, 1, 1, 1, 1, 1, 1, 1, 1, 1, 1, 1, 1, 1, 1, 1, 1, 1, 1, 1, 1, 1, 1, 1, 1, 1, 1, 1, 1, 1, 1, 1, 1, 1, 1, 1, 1, 1, 1, 1, 1, 1, 1, 1, 1, 1, 1, 1, 1, 1, 1, 1, 1, 1, 1, 1, 1, 1, 1, 1, 1, 1, 1, 1, 1, 1, 1, 1, 1, 1, 1, 1, 1, 1, 1, 1, 1, 1, 1, 1, 1, 1, 1, 1, 1, 1, 1, 1, 1, 1, 1, 1, 1, 1, 1, 1, 1, 1, 1, 1, 1, 1, 1, 1, 1, 1, 1, 1, 1, 1, 1, 1, 1, 1, 1, 1, 1, 1, 1, 1, 1, 1, 1, 1, 1, 1, 1, 1, 1, 1, 1, 1, 1, 1, 1, 1, 1, 1, 1, 1, 1, 1, 1, 1, 1, 1, 1, 1, 1, 1, 1, 1, 1, 1, 1, 1, 1, 1, 1, 1, 1, 1, 1, 1, 1, 1, 1, 1, 1, 1, 1, 1, 1, 1, 1, 1, 1, 1, 1, 1, 1, 1, 1, 1, 1, 1, 1, 1, 1, 1, 1, 1, 1, 1, 1, 1, 1, 1, 1, 1, 1, 1, 1, 1, 1, 1, 1, 1, 1, 1, 1, 1, 1, 1, 1, 1, 1, 1, 1, 1, 1, 1, 1, 1, 1, 1, 1, 1, 1, 1, 1, 1, 1, 1, 1, 1, 1, 1, 1, 1, 1, 1, 1, 1, 1, 1, 1, 1, 1, 1, 1, 1, 1, 1, 1, 1, 1, 1, 1, 1, 1, 1, 1, 1, 1, 1, 1, 1, 1, 1, 0, 1, 1, 1, 1, 1, 1, 1, 1, 1, 1, 1, 1, 1, 1, 1, 1, 1, 1, 1, 1, 1, 1, 1, 1, 1, 1, 1, 1, 1, 1, 1, 1, 1, 1, 1, 1, 1, 1, 1, 1, 1, 1, 1, 1, 1, 1, 1, 1, 1, 1, 1, 1, 1, 1, 0, 1, 1, 1, 1, 1, 1, 1, 1, 1, 1, 1, 1, 1, 1, 1, 1, 1, 1, 1, 1, 1, 1, 1, 1, 1, 1, 1, 1, 1, 1, 1, 1, 1, 1, 1, 1, 1, 1, 1, 1, 1, 1, 1, 1, 1, 1, 1, 1, 1, 1, 1, 1, 1, 1, 1, 1, 1, 1, 1, 1, 1, 1, 1, 1, 1, 1, 1, 1, 1, 1, 1, 1, 1, 1, 1, 1, 1, 1, 1, 1, 1, 1, 1, 1, 1, 1, 1, 1, 1, 1, 1, 1, 1, 1, 1, 1, 1, 1, 1, 1, 1, 1, 1, 1, 1, 1, 1, 1, 1, 1, 1, 1, 1, 1, 1, 1, 1, 1, 1, 1, 1, 1, 1, 1, 1, 1, 1, 1, 1, 1, 1, 1, 1, 1, 1, 1, 1, 1, 1, 1, 1, 1, 1, 1, 1, 1, 1, 1, 1, 1, 1, 1, 1, 1, 1, 1, 1, 1, 1, 1, 1, 1, 1, 1, 1, 1, 1, 1, 1, 1, 1, 1, 1, 1, 1, 1, 1, 1, 1, 1, 1, 1, 1, 1, 1, 1, 1, 1, 1, 1, 1, 1, 1, 1, 1, 1, 1, 1, 1, 1, 1, 1, 1, 1, 1, 1, 1, 1, 1, 1, 1, 1, 1, 1, 1, 1, 1, 1, 1, 1, 1, 1, 1, 1, 1, 1, 1, 1, 1, 1, 1, 0, 1, 1, 1, 0, 0, 0, 1, 1, 1, 1, 0, 0, 1, 1, 1, 1, 1, 1, 1, 0, 1, 0, 1, 1, 1, 1, 0, 0, 1, 1, 1, 1, 1, 1, 1, 1, 1, 1, 1, 1, 1, 1, 1, 1, 0, 0, 1, 0, 1, 0, 1, 0, 1, 0, 1, 0, 1, 1, 1, 1, 1, 1, 1, 1, 1, 1, 1, 0, 1, 1, 1, 1, 1, 1, 1, 1, 1, 1, 1, 1, 1, 1, 1, 1, 1, 1, 1, 1, 1, 1, 1, 1, 1, 1, 1, 1, 1, 1, 1, 1, 1, 1, 1, 0, 1, 0, 1, 1, 0, 0, 0, 0, 1, 1, 0, 1, 0, 1, 1, 1, 0, 0, 1, 1, 1, 1, 1, 1, 1, 1, 1, 1, 1, 1, 1, 1, 1, 1, 1, 1, 1, 1, 1, 1, 1, 1, 1, 1, 1, 1, 1, 1, 1, 1, 0, 0, 1, 1, 1, 1, 1, 1, 1, 1, 1, 0, 1, 1, 1, 1, 1, 1, 1, 0, 1, 1, 1, 1, 1, 1, 1, 1, 1, 1, 1, 1, 1, 1, 1, 1, 0, 0, 1, 1, 1, 0, 1, 1, 1, 1, 1, 1, 1, 1, 0, 0, 0, 1, 0, 1, 0, 1, 0, 0, 1, 1, 0, 0, 1, 1, 1, 1, 1, 1, 1, 0, 0, 1, 0, 1, 1, 1, 1, 1, 0, 0, 0, 1, 0, 1, 1, 1, 0, 0, 1, 1, 1, 1, 0, 1, 1, 0, 1, 1, 0, 1, 0, 1, 1, 0, 1, 1, 1, 0, 1, 1, 1, 1, 1, 1, 1, 1, 0, 1, 1, 1, 0, 0, 1, 1, 1, 0, 0, 1, 1, 1, 1, 1, 1, 1, 1, 1, 1, 1, 0, 1, 1, 1, 1, 1, 1, 1, 1, 0, 1, 0, 1, 1, 1, 1, 1, 1, 0, 1, 0, 1, 1, 1, 0, 1, 0, 1, 1, 1, 0, 0, 1, 1, 0, 0, 0, 0, 1, 1, 1, 1, 0, 1, 1, 1, 1, 1, 1, 0, 0, 0, 0, 0, 1, 1, 0, 0, 0, 1, 0, 1, 1, 1, 0, 1, 1, 0, 0, 1, 1, 1, 0, 0, 1, 0, 1, 0, 0, 0, 0, 0, 0, 0, 1, 1, 1, 1, 1, 0, 1, 0, 1, 1, 1, 0, 1, 1, 0, 0, 1, 1, 0, 1, 0, 0, 1, 1, 0, 0, 0, 0, 1, 1, 1, 1, 0, 0, 1, 1, 0, 1, 1, 1, 1, 1, 0, 1, 0, 1, 1, 1, 0, 1, 1, 1, 1, 0, 1, 1, 1, 0, 1, 1, 1, 1, 1, 1, 1, 1, 1, 1, 1, 0, 1, 1, 1, 0, 1, 1, 1, 1, 1, 0, 1, 0, 1, 0, 0, 1, 1, 0, 1, 1, 0, 1, 1, 1, 0, 1, 0, 1, 0, 1, 1, 1, 1, 1, 1, 1, 1, 1, 0, 0, 1, 1, 1, 1, 0, 0, 1, 0, 1, 0, 1, 0, 1, 1, 0, 0, 1, 0, 1, 1, 0, 1, 1, 1, 0, 1, 1, 1, 0, 1, 1, 1, 0, 0, 1, 1, 1, 1, 0, 1, 1, 1, 0, 1, 1, 1, 1, 1, 0, 0, 1, 1, 1, 1, 1, 0, 1, 1, 1, 1, 1, 1, 0, 0, 1, 1, 1, 0, 0, 0, 1, 1, 1, 1, 0, 0, 0, 1, 1, 0, 0, 1, 1, 1, 1, 1, 1, 1, 0, 0, 0, 0, 0, 1, 1, 1, 1, 1, 1, 1, 0, 0, 0, 0, 1, 1, 1, 1, 1, 1, 1, 0, 1, 1, 1, 1, 0, 1, 1, 1, 0, 1, 0, 1, 0, 1, 1, 0, 0, 1, 1, 1, 1, 1, 1, 0, 1, 1, 1, 1, 1, 0, 0, 1, 1, 1, 1, 0, 1, 1, 1, 1, 0, 0, 1, 1, 1, 1, 1, 0, 1, 1, 1, 1, 1, 1, 1, 1, 1, 1, 1, 1, 0, 1, 1, 1, 1, 0, 1, 0, 1, 1, 1, 1, 1, 1, 0, 1, 0, 0, 0, 1, 1, 1, 0, 1, 0, 1, 0, 1, 1, 0, 1, 1, 0, 1, 1, 1, 1, 1, 1, 0, 1, 1, 0, 1, 1, 1, 1, 1, 1, 1, 1, 1, 0, 0, 1, 1, 1, 1, 1, 0, 1, 1, 1, 0, 1, 1, 1, 0, 1, 0, 1, 1, 1, 1, 1, 1, 1, 0, 0, 1, 1, 1, 1, 1, 1, 0, 1, 0, 1, 1, 1, 1, 1, 1, 1, 0, 1, 1, 1, 1, 1, 1, 1, 1, 0, 0, 1, 0, 1, 1, 1, 1, 1, 1, 1, 0, 1, 1, 0, 1, 1, 1, 1, 1, 1, 1, 1, 1, 1, 1, 1, 1, 1, 1, 0, 1, 0, 1, 1, 0, 1, 0, 1, 1, 0, 1, 1, 0, 1, 1, 1, 1, 0, 1, 1, 1, 1, 0, 1, 1, 1, 1, 0, 1, 0, 0, 1, 1, 0, 0, 1, 1, 0, 0, 1, 0, 1, 0, 0, 1, 1, 0, 1, 1, 1, 1, 1, 1, 1, 0, 0, 1, 0, 1, 1, 1, 0, 1, 0, 1, 0, 1, 0, 1, 0, 1, 0, 1, 0, 1, 1, 1, 1, 1, 1, 1, 1, 1, 1, 1, 1, 1, 0, 0, 1, 1, 1, 1, 0, 0, 1, 1, 1, 1, 1, 1, 1, 1, 0, 1, 1, 1, 1, 1, 1, 1, 1, 0, 1, 0, 1, 1, 1, 1, 0, 0, 1, 1, 0, 1, 1, 1, 1, 0, 1, 1, 1, 1, 1, 1, 1, 1, 1, 1, 1, 0, 0, 0, 1, 0, 0, 0, 0, 1, 1, 1, 1, 1, 0, 1, 1, 1, 1, 1, 1, 1, 1, 1, 0, 1, 1, 1, 1, 1, 1, 0, 1, 1, 0, 1, 1, 1, 1, 1, 1, 1, 1, 1, 0, 1, 1, 1, 0, 0, 1, 1, 0, 1, 0, 1, 1, 1, 1, 1, 1, 1, 1, 1, 1, 1, 1, 1, 1, 1, 1, 1, 1, 1, 1, 1, 1, 1, 1, 1, 1, 1, 1, 1, 1, 1, 1, 1, 1, 1, 1, 1, 1, 1, 1, 1, 1, 1, 1, 1, 1, 1, 1, 1, 1, 1, 1, 1, 1, 1, 1, 1, 1, 1, 1, 1, 1, 1, 1, 1, 1, 1, 1, 1, 1, 1, 1, 1, 1, 1, 1, 1, 1, 1, 1, 1, 1, 1, 1, 1, 1, 1, 1, 1, 1, 1, 1, 1, 1, 1, 1, 1, 1, 1, 1, 1, 1, 1, 1, 1, 1, 1, 1, 1, 1, 1, 1, 1, 1, 1, 1, 1, 1, 1, 1, 1, 1, 1, 1, 1, 1, 1, 1, 1, 1, 1, 1, 1, 1, 1, 1, 1, 1, 1, 1, 1, 1, 1, 1, 1, 1, 1, 1, 1, 1, 1, 1, 1, 1, 1, 1, 1, 1, 1, 1, 1, 1, 1, 1, 1, 1, 1, 1, 1, 1, 1, 1, 1, 1, 1, 1, 1, 1, 1, 1, 1, 1, 1, 1, 1, 1, 1, 1, 1, 1, 1, 1, 1, 1, 1, 1, 1, 1, 1, 1, 1, 1, 1, 1, 1, 1, 1, 1, 1, 1, 1, 1, 1, 1, 1, 1, 1, 1, 1, 1, 1, 1, 1, 1, 1, 1, 1, 1, 1, 1, 1, 1, 1, 1, 1, 1, 1, 1, 1, 1, 1, 1, 1, 1, 1, 1, 1, 1, 1, 1, 1, 1, 1, 1, 1, 1, 1, 1, 1, 1, 1, 1, 1, 1, 1, 1, 1, 1, 1, 1, 1, 1, 1, 1, 1, 1, 1, 1, 1, 1, 1, 1, 1, 1, 1, 1, 1, 1, 1, 1, 1, 1, 1, 1, 1, 1, 1, 1, 1, 1, 1, 1, 1, 1, 1, 1, 1, 1, 1, 1, 1, 1, 1, 1, 1, 1, 1, 1, 1, 1, 1, 1, 1, 1, 1, 1, 1, 1, 1, 1, 1, 1, 1, 1, 1, 1, 1, 1, 1, 1, 0, 1, 1, 1, 1, 1, 1, 1, 1, 1, 1, 1, 1, 1, 1, 1, 1, 1, 1, 1, 1, 1, 1, 1, 1, 1, 1, 1, 1, 1, 0, 1, 1, 1, 1, 1, 1, 1, 1, 1, 1, 1, 1, 1, 1, 1, 1, 1, 1, 1, 1, 1, 1, 1, 1, 1, 1, 1, 1, 1, 1, 1, 1, 1, 1, 1, 1, 1, 1, 1, 1, 1, 1, 1, 1, 1, 1, 1, 1, 1, 1, 1, 1, 1, 1, 1, 1, 1, 1, 1, 1, 1, 1, 1, 1, 1, 1, 1, 1, 1, 1, 1, 1, 1, 1, 1, 1, 1, 1, 1, 1, 1, 1, 1, 1, 1, 1, 1, 1, 1, 1, 1, 1, 1, 1, 1, 1, 1, 1, 1, 1, 1, 1, 1, 1, 1, 1, 1, 1, 1, 1, 1, 1, 1, 1, 1, 1, 1, 1, 1, 1, 1, 1, 1, 1, 1, 1, 1, 1, 1, 1, 1, 1, 1, 1, 1, 1, 1, 1, 1, 1, 1, 1, 1, 1, 1, 1, 1, 1, 1, 1, 1, 1, 1, 1, 1, 1, 1, 1, 1, 1, 1, 1, 1, 1, 1, 1, 1, 1, 1, 1, 1, 1, 1, 1, 1, 1, 1, 1, 1, 1, 1, 1, 1, 1, 1, 1, 1, 1, 1, 1, 1, 1, 1, 1, 1, 1, 1, 1, 1, 1, 1, 1, 1, 1, 1, 1, 1, 1, 1, 1, 1, 1, 1, 1, 1, 1, 1, 1, 1, 1, 1, 1, 1, 1, 1, 1, 1, 1, 1, 1, 1, 1, 1, 1, 1, 1, 1, 1, 1, 1, 1, 1, 1, 1, 1, 1, 1, 1, 1, 1, 1, 1, 1, 1, 1, 1, 1, 1, 1, 1, 1, 1, 1, 1, 1, 1, 1, 1, 1, 1, 1, 1, 1, 1, 1, 1, 1, 1, 1, 1, 1, 1, 1, 1, 1, 1, 1, 1, 1, 1, 1, 1, 1, 1, 1, 1, 1, 0, 1, 1, 1, 1, 1, 1, 1, 1, 1, 1, 1, 1, 1, 1, 1, 1, 1, 1, 1, 1, 1, 1, 1, 1, 1, 1, 1, 1, 1, 1, 1, 1, 1, 1, 1, 1, 1, 1, 1, 1, 1, 1, 1, 1, 1, 1, 1, 1, 1, 1, 1, 1, 1, 1, 1, 1, 1, 1, 1, 1, 1, 1, 1, 1, 1, 1, 1, 1, 1, 1, 1, 1, 1, 1, 1, 1, 1, 1, 1, 1, 1, 1, 1, 1, 1, 1, 1, 1, 1, 1, 1, 1, 1, 1, 1, 1, 1, 1, 1, 1, 1, 1, 1, 1, 1, 1, 1, 1, 1, 1, 1, 1, 1, 1, 1, 1, 1, 1, 1, 1, 1, 1, 1, 1, 1, 1, 1, 1, 1, 1, 1, 1, 1, 1, 1, 1, 1, 1, 1, 1, 1, 1, 1, 1, 1, 1, 1, 1, 1, 1, 1, 1, 1, 1, 1, 1, 1, 1, 1, 1, 1, 1, 1, 1, 1, 1, 1, 1, 1, 1, 1, 1, 1, 1, 1, 1, 1, 1, 1, 1, 1, 1, 1, 1, 1, 1, 1, 1, 1, 1, 1, 1, 1, 1, 1, 1, 1, 1, 1, 1, 1, 1, 1, 1, 1, 1, 1, 1, 1, 1, 1, 1, 1, 1, 1, 1, 1, 1, 1, 1, 1, 1, 1, 1, 1, 1, 1, 1, 1, 1, 1, 1, 1, 1, 1, 1, 1, 1, 1, 1, 1, 1, 1, 1, 1, 1, 1, 1, 1, 1, 1, 1, 1, 1, 1, 1, 1, 1, 1, 1, 1, 1, 1, 1, 1, 1, 1, 1, 1, 1, 1, 1, 1, 1, 1, 1, 1, 1, 1, 1, 1, 1, 1, 1, 1, 1, 1, 1, 1, 1, 1, 1, 1, 1, 1, 1, 1, 1, 1, 1, 1, 1, 1, 1, 1, 1, 1, 1, 1, 1, 1, 1, 1, 1, 1, 1, 1, 1, 1, 1, 1, 1, 1, 1, 1, 1, 1, 1, 1, 1, 1, 1, 1, 1]\n"
          ],
          "name": "stdout"
        }
      ]
    },
    {
      "cell_type": "code",
      "metadata": {
        "colab_type": "code",
        "id": "E2tYePUfiKqY",
        "colab": {}
      },
      "source": [
        ""
      ],
      "execution_count": 0,
      "outputs": []
    },
    {
      "cell_type": "code",
      "metadata": {
        "colab_type": "code",
        "id": "u46xwj8wiK8t",
        "colab": {}
      },
      "source": [
        ""
      ],
      "execution_count": 0,
      "outputs": []
    },
    {
      "cell_type": "code",
      "metadata": {
        "colab_type": "code",
        "id": "uh7EBIdeF0z4",
        "colab": {}
      },
      "source": [
        ""
      ],
      "execution_count": 0,
      "outputs": []
    },
    {
      "cell_type": "code",
      "metadata": {
        "colab_type": "code",
        "id": "6v-gnHM0EMdI",
        "colab": {}
      },
      "source": [
        "# TODO: Check the effect of added noise in the training set"
      ],
      "execution_count": 0,
      "outputs": []
    },
    {
      "cell_type": "code",
      "metadata": {
        "colab_type": "code",
        "id": "xcQ6okM40h5T",
        "colab": {}
      },
      "source": [
        "def add_noise(mat_a, mat_b, label, noise_ratio):\n",
        "    n = mat_a.shape[0]\n",
        "    ind1 = np.where(label == 1)[0]\n",
        "    ind0 = np.where(label == 0)[0]\n",
        "    if len(ind1) * noise_ratio <= len(ind0):\n",
        "        return mat_a, mat_b, label\n",
        "    while True:\n",
        "        ind = np.random.randint(0, n, size=((noise_ratio+1)*len(ind1), 2))\n",
        "        ind = np.unique(ind, axis=0)\n",
        "        ne = np.where(ind[:, 0] != ind[:, 1])[0][:(noise_ratio*len(ind1)-len(ind0))]\n",
        "        if ne.shape[0] == noise_ratio*len(ind1)-len(ind0): break\n",
        "    ind = ind[ne]\n",
        "    mat_a_fake = mat_a[ind[:, 0]]\n",
        "    mat_b_fake = mat_b[ind[:, 1]]\n",
        "    mat_a_aug = np.vstack([mat_a, mat_a_fake])\n",
        "    mat_b_aug = np.vstack([mat_b, mat_b_fake])\n",
        "    label_aug = np.hstack([label, np.zeros(noise_ratio*len(ind1)-len(ind0), dtype='int')])\n",
        "    return mat_a_aug, mat_b_aug, label_aug"
      ],
      "execution_count": 0,
      "outputs": []
    },
    {
      "cell_type": "code",
      "metadata": {
        "colab_type": "code",
        "id": "oeyoCyYPsrQ0",
        "colab": {}
      },
      "source": [
        "mat_a = np.arange(1, 10).reshape((3, -1))\n",
        "mat_b = np.arange(10, 19).reshape((3, -1))\n",
        "label = np.array([1, 1, 0])\n",
        "noise_ratio = 3"
      ],
      "execution_count": 0,
      "outputs": []
    },
    {
      "cell_type": "code",
      "metadata": {
        "colab_type": "code",
        "id": "yhadr86nv0Tt",
        "colab": {}
      },
      "source": [
        "a, b, c = add_noise(mat_a, mat_b, label, noise_ratio)"
      ],
      "execution_count": 0,
      "outputs": []
    },
    {
      "cell_type": "code",
      "metadata": {
        "colab_type": "code",
        "id": "Qz0DfiKIv-gx",
        "outputId": "df3d2514-1c8e-46bd-e55d-09c0a1ef7dc4",
        "colab": {
          "base_uri": "https://localhost:8080/",
          "height": 153
        }
      },
      "source": [
        "np.hstack([a, b])"
      ],
      "execution_count": 0,
      "outputs": [
        {
          "output_type": "execute_result",
          "data": {
            "text/plain": [
              "array([[ 1,  2,  3, 10, 11, 12],\n",
              "       [ 4,  5,  6, 13, 14, 15],\n",
              "       [ 7,  8,  9, 16, 17, 18],\n",
              "       [ 1,  2,  3, 13, 14, 15],\n",
              "       [ 1,  2,  3, 16, 17, 18],\n",
              "       [ 4,  5,  6, 10, 11, 12],\n",
              "       [ 4,  5,  6, 16, 17, 18],\n",
              "       [ 7,  8,  9, 13, 14, 15]])"
            ]
          },
          "metadata": {
            "tags": []
          },
          "execution_count": 29
        }
      ]
    },
    {
      "cell_type": "code",
      "metadata": {
        "colab_type": "code",
        "id": "IF0EuMLBxjMB",
        "outputId": "f9b80c2d-358a-4f35-989b-05b9a5936c71",
        "colab": {
          "base_uri": "https://localhost:8080/",
          "height": 34
        }
      },
      "source": [
        "c"
      ],
      "execution_count": 0,
      "outputs": [
        {
          "output_type": "execute_result",
          "data": {
            "text/plain": [
              "array([1, 1, 0, 0, 0, 0, 0, 0])"
            ]
          },
          "metadata": {
            "tags": []
          },
          "execution_count": 30
        }
      ]
    },
    {
      "cell_type": "code",
      "metadata": {
        "colab_type": "code",
        "id": "pkfVj1n8xr2P",
        "colab": {}
      },
      "source": [
        "word_seq_train_en_aug, word_seq_train_fr_aug, train_y_aug = \\\n",
        "    add_noise(word_seq_train_en, word_seq_train_fr, train_y, noise_ratio=5)\n",
        "X_en_train, X_en_valid, X_fr_train, X_fr_valid, y_train, y_valid = \\\n",
        "    train_test_split(word_seq_train_en_aug, word_seq_train_fr_aug, train_y_aug, test_size=0.3, stratify=train_y_aug)"
      ],
      "execution_count": 0,
      "outputs": []
    },
    {
      "cell_type": "code",
      "metadata": {
        "colab_type": "code",
        "id": "gNX9OVff36n1",
        "outputId": "d44bb541-a24a-4156-be21-a0e856272960",
        "colab": {
          "base_uri": "https://localhost:8080/",
          "height": 207
        }
      },
      "source": [
        "#Placeholders\n",
        "input_en = Input(shape=(max_seq_len, ), name='en')\n",
        "input_fr = Input(shape=(max_seq_len, ), name='fr')\n",
        "#Embedding layers\n",
        "emb_en = Embedding(nb_words_en, embed_dim, weights=[en_embedding_matrix], \n",
        "                   input_length=(max_seq_len, ), trainable=False)(input_en)\n",
        "emb_fr = Embedding(nb_words_fr, embed_dim, weights=[fr_embedding_matrix], \n",
        "                   input_length=(max_seq_len, ), trainable=False)(input_fr)\n",
        "#LSTM layers\n",
        "lstm_en = Bidirectional(LSTM(embed_dim, dropout=0.2, \n",
        "                             recurrent_dropout=0.3, \n",
        "                             return_sequences=False))(emb_en)\n",
        "lstm_fr = Bidirectional(LSTM(embed_dim, dropout=0.2, \n",
        "                             recurrent_dropout=0.3, \n",
        "                             return_sequences=False))(emb_fr)\n",
        "#Absolute difference\n",
        "elem_diff = Lambda(abs_diff)([lstm_en, lstm_fr])\n",
        "#Elementwise product\n",
        "elem_prod = multiply([lstm_en, lstm_fr])\n",
        "#Feedforward and add\n",
        "dense1 = Dense(150, use_bias=False)(elem_diff)\n",
        "dense2 = Dense(150, use_bias=False)(elem_prod)\n",
        "dense_sum = add([dense1, dense2])\n",
        "dense_out = Dense(75, activation='tanh')(dense_sum)\n",
        "output = Dense(1, activation='sigmoid')(dense_out)\n",
        "model = Model(inputs=[input_en, input_fr], outputs=output)\n",
        "opt = Adadelta(clipnorm=5)\n",
        "model.compile(optimizer=opt, loss='binary_crossentropy', metrics=['accuracy'])\n",
        "model.fit([X_en_train, X_fr_train], y_train, batch_size=300, epochs=4,\n",
        "          validation_data=([X_en_valid, X_fr_valid], y_valid), verbose=1)"
      ],
      "execution_count": 0,
      "outputs": [
        {
          "output_type": "stream",
          "text": [
            "Train on 1957611 samples, validate on 838977 samples\n",
            "Epoch 1/4\n",
            "1957611/1957611 [==============================] - 3907s 2ms/step - loss: 0.0925 - acc: 0.9638 - val_loss: 0.0298 - val_acc: 0.9894\n",
            "Epoch 2/4\n",
            "1957611/1957611 [==============================] - 3867s 2ms/step - loss: 0.0329 - acc: 0.9881 - val_loss: 0.0225 - val_acc: 0.9921\n",
            "Epoch 3/4\n",
            "1957611/1957611 [==============================] - 3724s 2ms/step - loss: 0.0236 - acc: 0.9917 - val_loss: 0.0149 - val_acc: 0.9949\n",
            "Epoch 4/4\n",
            "1957611/1957611 [==============================] - 3640s 2ms/step - loss: 0.0191 - acc: 0.9933 - val_loss: 0.0131 - val_acc: 0.9956\n"
          ],
          "name": "stdout"
        },
        {
          "output_type": "execute_result",
          "data": {
            "text/plain": [
              "<keras.callbacks.History at 0x7f75fc294ba8>"
            ]
          },
          "metadata": {
            "tags": []
          },
          "execution_count": 21
        }
      ]
    },
    {
      "cell_type": "code",
      "metadata": {
        "colab_type": "code",
        "id": "slodG9xE4bnr",
        "outputId": "99c77480-dbf3-4fb4-e009-acf0a270c7c3",
        "colab": {
          "base_uri": "https://localhost:8080/",
          "height": 51
        }
      },
      "source": [
        "probs = model.predict([X_en_valid, X_fr_valid], verbose=1, batch_size=2000).ravel()\n",
        "d = {}\n",
        "for t in np.linspace(0, 0.99, 100):\n",
        "    y_pred = (probs > t) * 1\n",
        "    d[f1_score(y_valid, y_pred)] = t\n",
        "print(d[max(d)], max(d))"
      ],
      "execution_count": 0,
      "outputs": [
        {
          "output_type": "stream",
          "text": [
            "838977/838977 [==============================] - 230s 274us/step\n",
            "0.59 0.9872296549822962\n"
          ],
          "name": "stdout"
        }
      ]
    },
    {
      "cell_type": "code",
      "metadata": {
        "colab_type": "code",
        "id": "4N_FJVGl8USn",
        "outputId": "8aaba617-d67d-4a19-c20c-cc0be52d4418",
        "colab": {
          "base_uri": "https://localhost:8080/",
          "height": 51
        }
      },
      "source": [
        "probs = model.predict([word_seq_test_en, word_seq_test_fr], verbose=1, batch_size=2000).ravel()\n",
        "pred_y = (probs > 0.59) * 1\n",
        "print(f1_score(test_y, pred_y))"
      ],
      "execution_count": 0,
      "outputs": [
        {
          "output_type": "stream",
          "text": [
            "733789/733789 [==============================] - 201s 273us/step\n",
            "0.9871111585524446\n"
          ],
          "name": "stdout"
        }
      ]
    },
    {
      "cell_type": "code",
      "metadata": {
        "colab_type": "code",
        "id": "GMO7MkZQfjxj",
        "colab": {}
      },
      "source": [
        "from sklearn.metrics import confusion_matrix\n",
        "cm = confusion_matrix(test_y, y_pred)\n",
        "print(cm)\n"
      ],
      "execution_count": 0,
      "outputs": []
    }
  ]
}