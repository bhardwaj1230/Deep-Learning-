{
  "nbformat": 4,
  "nbformat_minor": 0,
  "metadata": {
    "colab": {
      "name": "HW3-Q2-VAE",
      "version": "0.3.2",
      "provenance": [],
      "collapsed_sections": []
    },
    "kernelspec": {
      "name": "python3",
      "display_name": "Python 3"
    },
    "accelerator": "GPU"
  },
  "cells": [
    {
      "metadata": {
        "id": "-q85BwZSsj_B",
        "colab_type": "text"
      },
      "cell_type": "markdown",
      "source": [
        "**Work in progress !!**\n",
        "\n",
        "***Task Completed :***\n",
        "\n",
        "*   Architecture\n",
        "*   Train VAE\n",
        "*   Implement ELBO\n",
        "\n",
        "***To Do:***\n",
        "\n",
        "\n",
        "*   Achieve an ELBO of ≥−96\n",
        "*   Returns:–(logp(x1),...,logp(xM)) estimates of size (M,)\n",
        "\n",
        "\n"
      ]
    },
    {
      "metadata": {
        "id": "xNrPKkzu9R4J",
        "colab_type": "code",
        "colab": {}
      },
      "cell_type": "code",
      "source": [
        "from torchvision.datasets import utils\n",
        "import torch.utils.data as data_utils\n",
        "import torch\n",
        "import os\n",
        "import numpy as np\n",
        "from torch import nn\n",
        "from torch.nn.modules import upsampling\n",
        "from torch.functional import F\n",
        "from torch.optim import Adam"
      ],
      "execution_count": 0,
      "outputs": []
    },
    {
      "metadata": {
        "id": "VOwcsoJb9b_f",
        "colab_type": "code",
        "colab": {}
      },
      "cell_type": "code",
      "source": [
        "def get_data_loader(dataset_location, batch_size):\n",
        "    URL = \"http://www.cs.toronto.edu/~larocheh/public/datasets/binarized_mnist/\"\n",
        "    # start processing\n",
        "    def lines_to_np_array(lines):\n",
        "        return np.array([[int(i) for i in line.split()] for line in lines])\n",
        "    splitdata = []\n",
        "    for splitname in [\"train\", \"valid\", \"test\"]:\n",
        "        filename = \"binarized_mnist_%s.amat\" % splitname\n",
        "        filepath = os.path.join(dataset_location, filename)\n",
        "        utils.download_url(URL + filename, dataset_location, filename = filename, md5=None)\n",
        "        with open(filepath) as f:\n",
        "            lines = f.readlines()\n",
        "        x = lines_to_np_array(lines).astype('float32')\n",
        "        x = x.reshape(x.shape[0], 1, 28, 28)\n",
        "        # pytorch data loader\n",
        "        dataset = data_utils.TensorDataset(torch.from_numpy(x))\n",
        "        dataset_loader = data_utils.DataLoader(x, batch_size=batch_size, shuffle=splitname == \"train\")\n",
        "        splitdata.append(dataset_loader)\n",
        "    return splitdata"
      ],
      "execution_count": 0,
      "outputs": []
    },
    {
      "metadata": {
        "id": "Nv_8Y33A9nCU",
        "colab_type": "code",
        "colab": {}
      },
      "cell_type": "code",
      "source": [
        "train, valid, test = get_data_loader(\"binarized_mnist\", 64)"
      ],
      "execution_count": 0,
      "outputs": []
    },
    {
      "metadata": {
        "id": "xSwlEYJz9qik",
        "colab_type": "code",
        "outputId": "6a3fbc76-c495-4f56-da40-b0d7104a9fc9",
        "colab": {
          "base_uri": "https://localhost:8080/",
          "height": 269
        }
      },
      "cell_type": "code",
      "source": [
        "import matplotlib\n",
        "import matplotlib.pyplot as plt\n",
        "%matplotlib inline\n",
        "for x in train:\n",
        "    plt.imshow(x[0, 0])\n",
        "    break"
      ],
      "execution_count": 4,
      "outputs": [
        {
          "output_type": "display_data",
          "data": {
            "image/png": "[encoded data removed]",
            "text/plain": [
              "<Figure size 432x288 with 1 Axes>"
            ]
          },
          "metadata": {
            "tags": []
          }
        }
      ]
    },
    {
      "metadata": {
        "id": "EIsik-Gdg4GZ",
        "colab_type": "code",
        "colab": {}
      },
      "cell_type": "code",
      "source": [
        "import numpy as np\n",
        "import random\n",
        "\n",
        "\n",
        "def distribution3(batch_size=64):\n",
        "    # 1D gaussian distribution\n",
        "    while True:\n",
        "        yield(np.random.normal(0, 1, (batch_size, 200)))\n",
        "\n",
        "\n",
        "if __name__ == '__main__':\n",
        "    # Example of usage\n",
        "    dist = iter(distribution3(64))\n",
        "    samples = next(dist)"
      ],
      "execution_count": 0,
      "outputs": []
    },
    {
      "metadata": {
        "id": "48Z9N4cK9qf8",
        "colab_type": "code",
        "colab": {}
      },
      "cell_type": "code",
      "source": [
        "class Flatten(nn.Module):\n",
        "    def forward(self, input):\n",
        "        return input.view(input.size(0), -1)\n",
        "\n",
        "\n",
        "class UnFlatten(nn.Module):\n",
        "    def forward(self, input, size=256):\n",
        "        return input.view(input.size(0), size, 1, 1)\n",
        "\n",
        "class VAE(nn.Module):\n",
        "  \n",
        "    def __init__(self, image_channels=1, h_dim=256, z_dim=100):\n",
        "        super(VAE, self).__init__()\n",
        "        \n",
        "        # Q(z|X) -- encoder\n",
        "        self.encoder = nn.Sequential(\n",
        "            nn.Conv2d(image_channels, 32, kernel_size=3),\n",
        "            nn.ELU(),\n",
        "            nn.AvgPool2d(kernel_size=2, stride=2),\n",
        "            nn.Conv2d(32, 64, kernel_size=3),\n",
        "            nn.ELU(),\n",
        "            nn.AvgPool2d(kernel_size=2, stride=2),\n",
        "            nn.Conv2d(64, 256, kernel_size=5),\n",
        "            nn.ELU(),\n",
        "            Flatten()\n",
        "        )\n",
        "        \n",
        "        self.fc1 = nn.Linear(h_dim, z_dim)\n",
        "        self.fc2 = nn.Linear(h_dim, z_dim)\n",
        "        self.fc3 = nn.Linear(z_dim, h_dim)\n",
        "        \n",
        "        # P(X|z) -- decoder\n",
        "        self.decoder = nn.Sequential(\n",
        "            \n",
        "            UnFlatten(),\n",
        "            nn.ELU(),\n",
        "            nn.Conv2d(256, 64, kernel_size= 5, padding= 4),\n",
        "            nn.ELU(),\n",
        "            nn.Upsample(scale_factor=2, mode = 'bilinear'), #, align_corners=True\n",
        "            nn.Conv2d(64, 32, kernel_size=3, padding=2),\n",
        "            nn.ELU(),\n",
        "            nn.Upsample(scale_factor=2, mode = 'bilinear'), #, align_corners=True\n",
        "            nn.Conv2d(32, 16, kernel_size=3, padding = 2),\n",
        "            nn.ELU(),\n",
        "            nn.Conv2d(16, image_channels, kernel_size = 3, padding = 2),\n",
        "            nn.Sigmoid(),\n",
        "        )\n",
        "        \n",
        "    def reparameterize(self, mu, logvar):\n",
        "        std = logvar.mul(0.5).exp_()\n",
        "        # return torch.normal(mu, std)\n",
        "        esp = torch.randn(*mu.size())\n",
        "        #print('esp Sample: '+str(np.shape(esp)))\n",
        "        z = mu + std * esp\n",
        "        #print('Z Sample: '+str(np.shape(z)))\n",
        "        return z\n",
        "    \n",
        "    def bottleneck(self, h):\n",
        "        #print('S0 h: '+str(np.shape(h)))\n",
        "        \n",
        "        mu, logvar = self.fc1(h), self.fc2(h)\n",
        "        #print('S1 mu: '+str(np.shape(mu)))\n",
        "        #print('S2 logvar: '+str(np.shape(logvar)))\n",
        "        \n",
        "        z = self.reparameterize(mu, logvar)\n",
        "        #print('S3 z: '+str(np.shape(z)))\n",
        "\n",
        "        # Sample z ~ Q(z|X)\n",
        "        return z, mu, logvar\n",
        "        \n",
        "    def representation(self, x):\n",
        "        #print('S4 x: '+str(np.shape(x)))\n",
        "        return self.bottleneck(self.encoder(x))[0]\n",
        "\n",
        "    def forward(self, x):\n",
        "        #print('B4_encoder x: '+str(np.shape(x)))\n",
        "        \n",
        "        h = self.encoder(x)\n",
        "        #print('AF_encoder h: '+str(np.shape(h)))\n",
        "        \n",
        "        z, mu, logvar = self.bottleneck(h)\n",
        "        #print('S6 mu: '+str(np.shape(mu)))\n",
        "        #print('S7 logvar: '+str(np.shape(logvar)))\n",
        "        #print('S8 z: '+str(np.shape(z)))\n",
        "        \n",
        "        z = self.fc3(z)\n",
        "        #print('S9 z: '+str(np.shape(z)))\n",
        "        \n",
        "        decoder = self.decoder(z)\n",
        "\n",
        "        return decoder, z, h, mu, logvar\n",
        "\n",
        "        \n"
      ],
      "execution_count": 0,
      "outputs": []
    },
    {
      "metadata": {
        "id": "uSSFbJNzIL2r",
        "colab_type": "code",
        "colab": {}
      },
      "cell_type": "code",
      "source": [
        "device = torch.device('cuda' if torch.cuda.is_available() else 'cpu')\n",
        "device\n",
        "\n",
        "model = VAE()\n",
        "optimizer = torch.optim.Adam(model.parameters(), lr=4e-4)\n",
        "\n",
        "def loss_fn(recon_x, x, mu, logvar):\n",
        "    ## E[log P(X|z)]\n",
        "    BCE = F.binary_cross_entropy(recon_x, x, size_average=False)\n",
        "    # BCE = F.mse_loss(recon_x, x, size_average=False)\n",
        "\n",
        "    # see Appendix B from VAE paper:\n",
        "    # Kingma and Welling. Auto-Encoding Variational Bayes. ICLR, 2014\n",
        "    # 0.5 * sum(1 + log(sigma^2) - mu^2 - sigma^2)\n",
        "    # D_KL(Q(z|X) || P(z|X)); calculate in closed form as both dist. are Gaussian\n",
        "    KLD = -0.5 * torch.mean(1 + logvar - mu.pow(2) - logvar.exp())\n",
        "\n",
        "    return BCE + KLD, BCE, KLD"
      ],
      "execution_count": 0,
      "outputs": []
    },
    {
      "metadata": {
        "id": "vIC-9Bj-9qVk",
        "colab_type": "code",
        "outputId": "934370af-8669-4c48-9379-ca11d7bab691",
        "colab": {
          "base_uri": "https://localhost:8080/",
          "height": 6793
        }
      },
      "cell_type": "code",
      "source": [
        "epochs = 1\n",
        "bs = 64\n",
        "\n",
        "for epoch in range(epochs):\n",
        "    for idx, (images) in enumerate(train):\n",
        "        recon_images, z, h, mu, logvar = model(images)\n",
        "        \n",
        "        loss, bce, kld = loss_fn(recon_images, images, mu, logvar)\n",
        "        optimizer.zero_grad()\n",
        "        loss.backward()\n",
        "        optimizer.step()\n",
        "\n",
        "        print('Z Sample: '+str(np.shape(z)))\n",
        "        print('mu Sample: '+str(np.shape(mu)))\n",
        "        print('logvar Sample: '+str(np.shape(logvar)))   \n",
        "    \n",
        "    to_print = \"Epoch[{}/{}] Loss: {:.3f} ,BCE: {:.3f} ,KLD: {:.3f}\".format(epoch+1, \n",
        "                            epochs, loss/bs, bce/bs, kld/bs)\n",
        "    print(to_print)\n",
        "\n",
        "\n"
      ],
      "execution_count": 110,
      "outputs": [
        {
          "output_type": "stream",
          "text": [
            "Z Sample: torch.Size([64, 256])\n",
            "mu Sample: torch.Size([64, 100])\n",
            "logvar Sample: torch.Size([64, 100])\n",
            "Z Sample: torch.Size([64, 256])\n",
            "mu Sample: torch.Size([64, 100])\n",
            "logvar Sample: torch.Size([64, 100])\n",
            "Z Sample: torch.Size([64, 256])\n",
            "mu Sample: torch.Size([64, 100])\n",
            "logvar Sample: torch.Size([64, 100])\n",
            "Z Sample: torch.Size([64, 256])\n",
            "mu Sample: torch.Size([64, 100])\n",
            "logvar Sample: torch.Size([64, 100])\n",
            "Z Sample: torch.Size([64, 256])\n",
            "mu Sample: torch.Size([64, 100])\n",
            "logvar Sample: torch.Size([64, 100])\n",
            "Z Sample: torch.Size([64, 256])\n",
            "mu Sample: torch.Size([64, 100])\n",
            "logvar Sample: torch.Size([64, 100])\n",
            "Z Sample: torch.Size([64, 256])\n",
            "mu Sample: torch.Size([64, 100])\n",
            "logvar Sample: torch.Size([64, 100])\n",
            "Z Sample: torch.Size([64, 256])\n",
            "mu Sample: torch.Size([64, 100])\n",
            "logvar Sample: torch.Size([64, 100])\n",
            "Z Sample: torch.Size([64, 256])\n",
            "mu Sample: torch.Size([64, 100])\n",
            "logvar Sample: torch.Size([64, 100])\n",
            "Z Sample: torch.Size([64, 256])\n",
            "mu Sample: torch.Size([64, 100])\n",
            "logvar Sample: torch.Size([64, 100])\n",
            "Z Sample: torch.Size([64, 256])\n",
            "mu Sample: torch.Size([64, 100])\n",
            "logvar Sample: torch.Size([64, 100])\n",
            "Z Sample: torch.Size([64, 256])\n",
            "mu Sample: torch.Size([64, 100])\n",
            "logvar Sample: torch.Size([64, 100])\n",
            "Z Sample: torch.Size([64, 256])\n",
            "mu Sample: torch.Size([64, 100])\n",
            "logvar Sample: torch.Size([64, 100])\n",
            "Z Sample: torch.Size([64, 256])\n",
            "mu Sample: torch.Size([64, 100])\n",
            "logvar Sample: torch.Size([64, 100])\n",
            "Z Sample: torch.Size([64, 256])\n",
            "mu Sample: torch.Size([64, 100])\n",
            "logvar Sample: torch.Size([64, 100])\n",
            "Z Sample: torch.Size([64, 256])\n",
            "mu Sample: torch.Size([64, 100])\n",
            "logvar Sample: torch.Size([64, 100])\n",
            "Z Sample: torch.Size([64, 256])\n",
            "mu Sample: torch.Size([64, 100])\n",
            "logvar Sample: torch.Size([64, 100])\n",
            "Z Sample: torch.Size([64, 256])\n",
            "mu Sample: torch.Size([64, 100])\n",
            "logvar Sample: torch.Size([64, 100])\n",
            "Z Sample: torch.Size([64, 256])\n",
            "mu Sample: torch.Size([64, 100])\n",
            "logvar Sample: torch.Size([64, 100])\n",
            "Z Sample: torch.Size([64, 256])\n",
            "mu Sample: torch.Size([64, 100])\n",
            "logvar Sample: torch.Size([64, 100])\n",
            "Z Sample: torch.Size([64, 256])\n",
            "mu Sample: torch.Size([64, 100])\n",
            "logvar Sample: torch.Size([64, 100])\n",
            "Z Sample: torch.Size([64, 256])\n",
            "mu Sample: torch.Size([64, 100])\n",
            "logvar Sample: torch.Size([64, 100])\n",
            "Z Sample: torch.Size([64, 256])\n",
            "mu Sample: torch.Size([64, 100])\n",
            "logvar Sample: torch.Size([64, 100])\n",
            "Z Sample: torch.Size([64, 256])\n",
            "mu Sample: torch.Size([64, 100])\n",
            "logvar Sample: torch.Size([64, 100])\n",
            "Z Sample: torch.Size([64, 256])\n",
            "mu Sample: torch.Size([64, 100])\n",
            "logvar Sample: torch.Size([64, 100])\n",
            "Z Sample: torch.Size([64, 256])\n",
            "mu Sample: torch.Size([64, 100])\n",
            "logvar Sample: torch.Size([64, 100])\n",
            "Z Sample: torch.Size([64, 256])\n",
            "mu Sample: torch.Size([64, 100])\n",
            "logvar Sample: torch.Size([64, 100])\n",
            "Z Sample: torch.Size([64, 256])\n",
            "mu Sample: torch.Size([64, 100])\n",
            "logvar Sample: torch.Size([64, 100])\n",
            "Z Sample: torch.Size([64, 256])\n",
            "mu Sample: torch.Size([64, 100])\n",
            "logvar Sample: torch.Size([64, 100])\n",
            "Z Sample: torch.Size([64, 256])\n",
            "mu Sample: torch.Size([64, 100])\n",
            "logvar Sample: torch.Size([64, 100])\n",
            "Z Sample: torch.Size([64, 256])\n",
            "mu Sample: torch.Size([64, 100])\n",
            "logvar Sample: torch.Size([64, 100])\n",
            "Z Sample: torch.Size([64, 256])\n",
            "mu Sample: torch.Size([64, 100])\n",
            "logvar Sample: torch.Size([64, 100])\n",
            "Z Sample: torch.Size([64, 256])\n",
            "mu Sample: torch.Size([64, 100])\n",
            "logvar Sample: torch.Size([64, 100])\n",
            "Z Sample: torch.Size([64, 256])\n",
            "mu Sample: torch.Size([64, 100])\n",
            "logvar Sample: torch.Size([64, 100])\n",
            "Z Sample: torch.Size([64, 256])\n",
            "mu Sample: torch.Size([64, 100])\n",
            "logvar Sample: torch.Size([64, 100])\n",
            "Z Sample: torch.Size([64, 256])\n",
            "mu Sample: torch.Size([64, 100])\n",
            "logvar Sample: torch.Size([64, 100])\n",
            "Z Sample: torch.Size([64, 256])\n",
            "mu Sample: torch.Size([64, 100])\n",
            "logvar Sample: torch.Size([64, 100])\n",
            "Z Sample: torch.Size([64, 256])\n",
            "mu Sample: torch.Size([64, 100])\n",
            "logvar Sample: torch.Size([64, 100])\n",
            "Z Sample: torch.Size([64, 256])\n",
            "mu Sample: torch.Size([64, 100])\n",
            "logvar Sample: torch.Size([64, 100])\n",
            "Z Sample: torch.Size([64, 256])\n",
            "mu Sample: torch.Size([64, 100])\n",
            "logvar Sample: torch.Size([64, 100])\n",
            "Z Sample: torch.Size([64, 256])\n",
            "mu Sample: torch.Size([64, 100])\n",
            "logvar Sample: torch.Size([64, 100])\n",
            "Z Sample: torch.Size([64, 256])\n",
            "mu Sample: torch.Size([64, 100])\n",
            "logvar Sample: torch.Size([64, 100])\n",
            "Z Sample: torch.Size([64, 256])\n",
            "mu Sample: torch.Size([64, 100])\n",
            "logvar Sample: torch.Size([64, 100])\n",
            "Z Sample: torch.Size([64, 256])\n",
            "mu Sample: torch.Size([64, 100])\n",
            "logvar Sample: torch.Size([64, 100])\n",
            "Z Sample: torch.Size([64, 256])\n",
            "mu Sample: torch.Size([64, 100])\n",
            "logvar Sample: torch.Size([64, 100])\n",
            "Z Sample: torch.Size([64, 256])\n",
            "mu Sample: torch.Size([64, 100])\n",
            "logvar Sample: torch.Size([64, 100])\n",
            "Z Sample: torch.Size([64, 256])\n",
            "mu Sample: torch.Size([64, 100])\n",
            "logvar Sample: torch.Size([64, 100])\n",
            "Z Sample: torch.Size([64, 256])\n",
            "mu Sample: torch.Size([64, 100])\n",
            "logvar Sample: torch.Size([64, 100])\n",
            "Z Sample: torch.Size([64, 256])\n",
            "mu Sample: torch.Size([64, 100])\n",
            "logvar Sample: torch.Size([64, 100])\n",
            "Z Sample: torch.Size([64, 256])\n",
            "mu Sample: torch.Size([64, 100])\n",
            "logvar Sample: torch.Size([64, 100])\n",
            "Z Sample: torch.Size([64, 256])\n",
            "mu Sample: torch.Size([64, 100])\n",
            "logvar Sample: torch.Size([64, 100])\n",
            "Z Sample: torch.Size([64, 256])\n",
            "mu Sample: torch.Size([64, 100])\n",
            "logvar Sample: torch.Size([64, 100])\n",
            "Z Sample: torch.Size([64, 256])\n",
            "mu Sample: torch.Size([64, 100])\n",
            "logvar Sample: torch.Size([64, 100])\n",
            "Z Sample: torch.Size([64, 256])\n",
            "mu Sample: torch.Size([64, 100])\n",
            "logvar Sample: torch.Size([64, 100])\n",
            "Z Sample: torch.Size([64, 256])\n",
            "mu Sample: torch.Size([64, 100])\n",
            "logvar Sample: torch.Size([64, 100])\n",
            "Z Sample: torch.Size([64, 256])\n",
            "mu Sample: torch.Size([64, 100])\n",
            "logvar Sample: torch.Size([64, 100])\n",
            "Z Sample: torch.Size([64, 256])\n",
            "mu Sample: torch.Size([64, 100])\n",
            "logvar Sample: torch.Size([64, 100])\n",
            "Z Sample: torch.Size([64, 256])\n",
            "mu Sample: torch.Size([64, 100])\n",
            "logvar Sample: torch.Size([64, 100])\n",
            "Z Sample: torch.Size([64, 256])\n",
            "mu Sample: torch.Size([64, 100])\n",
            "logvar Sample: torch.Size([64, 100])\n",
            "Z Sample: torch.Size([64, 256])\n",
            "mu Sample: torch.Size([64, 100])\n",
            "logvar Sample: torch.Size([64, 100])\n",
            "Z Sample: torch.Size([64, 256])\n",
            "mu Sample: torch.Size([64, 100])\n",
            "logvar Sample: torch.Size([64, 100])\n",
            "Z Sample: torch.Size([64, 256])\n",
            "mu Sample: torch.Size([64, 100])\n",
            "logvar Sample: torch.Size([64, 100])\n",
            "Z Sample: torch.Size([64, 256])\n",
            "mu Sample: torch.Size([64, 100])\n",
            "logvar Sample: torch.Size([64, 100])\n",
            "Z Sample: torch.Size([64, 256])\n",
            "mu Sample: torch.Size([64, 100])\n",
            "logvar Sample: torch.Size([64, 100])\n",
            "Z Sample: torch.Size([64, 256])\n",
            "mu Sample: torch.Size([64, 100])\n",
            "logvar Sample: torch.Size([64, 100])\n",
            "Z Sample: torch.Size([64, 256])\n",
            "mu Sample: torch.Size([64, 100])\n",
            "logvar Sample: torch.Size([64, 100])\n",
            "Z Sample: torch.Size([64, 256])\n",
            "mu Sample: torch.Size([64, 100])\n",
            "logvar Sample: torch.Size([64, 100])\n",
            "Z Sample: torch.Size([64, 256])\n",
            "mu Sample: torch.Size([64, 100])\n",
            "logvar Sample: torch.Size([64, 100])\n",
            "Z Sample: torch.Size([64, 256])\n",
            "mu Sample: torch.Size([64, 100])\n",
            "logvar Sample: torch.Size([64, 100])\n",
            "Z Sample: torch.Size([64, 256])\n",
            "mu Sample: torch.Size([64, 100])\n",
            "logvar Sample: torch.Size([64, 100])\n",
            "Z Sample: torch.Size([64, 256])\n",
            "mu Sample: torch.Size([64, 100])\n",
            "logvar Sample: torch.Size([64, 100])\n",
            "Z Sample: torch.Size([64, 256])\n",
            "mu Sample: torch.Size([64, 100])\n",
            "logvar Sample: torch.Size([64, 100])\n",
            "Z Sample: torch.Size([64, 256])\n",
            "mu Sample: torch.Size([64, 100])\n",
            "logvar Sample: torch.Size([64, 100])\n",
            "Z Sample: torch.Size([64, 256])\n",
            "mu Sample: torch.Size([64, 100])\n",
            "logvar Sample: torch.Size([64, 100])\n",
            "Z Sample: torch.Size([64, 256])\n",
            "mu Sample: torch.Size([64, 100])\n",
            "logvar Sample: torch.Size([64, 100])\n",
            "Z Sample: torch.Size([64, 256])\n",
            "mu Sample: torch.Size([64, 100])\n",
            "logvar Sample: torch.Size([64, 100])\n",
            "Z Sample: torch.Size([64, 256])\n",
            "mu Sample: torch.Size([64, 100])\n",
            "logvar Sample: torch.Size([64, 100])\n",
            "Z Sample: torch.Size([64, 256])\n",
            "mu Sample: torch.Size([64, 100])\n",
            "logvar Sample: torch.Size([64, 100])\n",
            "Z Sample: torch.Size([64, 256])\n",
            "mu Sample: torch.Size([64, 100])\n",
            "logvar Sample: torch.Size([64, 100])\n",
            "Z Sample: torch.Size([64, 256])\n",
            "mu Sample: torch.Size([64, 100])\n",
            "logvar Sample: torch.Size([64, 100])\n",
            "Z Sample: torch.Size([64, 256])\n",
            "mu Sample: torch.Size([64, 100])\n",
            "logvar Sample: torch.Size([64, 100])\n",
            "Z Sample: torch.Size([64, 256])\n",
            "mu Sample: torch.Size([64, 100])\n",
            "logvar Sample: torch.Size([64, 100])\n",
            "Z Sample: torch.Size([64, 256])\n",
            "mu Sample: torch.Size([64, 100])\n",
            "logvar Sample: torch.Size([64, 100])\n",
            "Z Sample: torch.Size([64, 256])\n",
            "mu Sample: torch.Size([64, 100])\n",
            "logvar Sample: torch.Size([64, 100])\n",
            "Z Sample: torch.Size([64, 256])\n",
            "mu Sample: torch.Size([64, 100])\n",
            "logvar Sample: torch.Size([64, 100])\n",
            "Z Sample: torch.Size([64, 256])\n",
            "mu Sample: torch.Size([64, 100])\n",
            "logvar Sample: torch.Size([64, 100])\n",
            "Z Sample: torch.Size([64, 256])\n",
            "mu Sample: torch.Size([64, 100])\n",
            "logvar Sample: torch.Size([64, 100])\n",
            "Z Sample: torch.Size([64, 256])\n",
            "mu Sample: torch.Size([64, 100])\n",
            "logvar Sample: torch.Size([64, 100])\n",
            "Z Sample: torch.Size([64, 256])\n",
            "mu Sample: torch.Size([64, 100])\n",
            "logvar Sample: torch.Size([64, 100])\n",
            "Z Sample: torch.Size([64, 256])\n",
            "mu Sample: torch.Size([64, 100])\n",
            "logvar Sample: torch.Size([64, 100])\n",
            "Z Sample: torch.Size([64, 256])\n",
            "mu Sample: torch.Size([64, 100])\n",
            "logvar Sample: torch.Size([64, 100])\n",
            "Z Sample: torch.Size([64, 256])\n",
            "mu Sample: torch.Size([64, 100])\n",
            "logvar Sample: torch.Size([64, 100])\n",
            "Z Sample: torch.Size([64, 256])\n",
            "mu Sample: torch.Size([64, 100])\n",
            "logvar Sample: torch.Size([64, 100])\n",
            "Z Sample: torch.Size([64, 256])\n",
            "mu Sample: torch.Size([64, 100])\n",
            "logvar Sample: torch.Size([64, 100])\n",
            "Z Sample: torch.Size([64, 256])\n",
            "mu Sample: torch.Size([64, 100])\n",
            "logvar Sample: torch.Size([64, 100])\n",
            "Z Sample: torch.Size([64, 256])\n",
            "mu Sample: torch.Size([64, 100])\n",
            "logvar Sample: torch.Size([64, 100])\n",
            "Z Sample: torch.Size([64, 256])\n",
            "mu Sample: torch.Size([64, 100])\n",
            "logvar Sample: torch.Size([64, 100])\n",
            "Z Sample: torch.Size([64, 256])\n",
            "mu Sample: torch.Size([64, 100])\n",
            "logvar Sample: torch.Size([64, 100])\n",
            "Z Sample: torch.Size([64, 256])\n",
            "mu Sample: torch.Size([64, 100])\n",
            "logvar Sample: torch.Size([64, 100])\n",
            "Z Sample: torch.Size([64, 256])\n",
            "mu Sample: torch.Size([64, 100])\n",
            "logvar Sample: torch.Size([64, 100])\n",
            "Z Sample: torch.Size([64, 256])\n",
            "mu Sample: torch.Size([64, 100])\n",
            "logvar Sample: torch.Size([64, 100])\n",
            "Z Sample: torch.Size([64, 256])\n",
            "mu Sample: torch.Size([64, 100])\n",
            "logvar Sample: torch.Size([64, 100])\n",
            "Z Sample: torch.Size([64, 256])\n",
            "mu Sample: torch.Size([64, 100])\n",
            "logvar Sample: torch.Size([64, 100])\n",
            "Z Sample: torch.Size([64, 256])\n",
            "mu Sample: torch.Size([64, 100])\n",
            "logvar Sample: torch.Size([64, 100])\n",
            "Z Sample: torch.Size([64, 256])\n",
            "mu Sample: torch.Size([64, 100])\n",
            "logvar Sample: torch.Size([64, 100])\n",
            "Z Sample: torch.Size([64, 256])\n",
            "mu Sample: torch.Size([64, 100])\n",
            "logvar Sample: torch.Size([64, 100])\n",
            "Z Sample: torch.Size([64, 256])\n",
            "mu Sample: torch.Size([64, 100])\n",
            "logvar Sample: torch.Size([64, 100])\n",
            "Z Sample: torch.Size([64, 256])\n",
            "mu Sample: torch.Size([64, 100])\n",
            "logvar Sample: torch.Size([64, 100])\n",
            "Z Sample: torch.Size([64, 256])\n",
            "mu Sample: torch.Size([64, 100])\n",
            "logvar Sample: torch.Size([64, 100])\n",
            "Z Sample: torch.Size([64, 256])\n",
            "mu Sample: torch.Size([64, 100])\n",
            "logvar Sample: torch.Size([64, 100])\n",
            "Z Sample: torch.Size([64, 256])\n",
            "mu Sample: torch.Size([64, 100])\n",
            "logvar Sample: torch.Size([64, 100])\n",
            "Z Sample: torch.Size([64, 256])\n",
            "mu Sample: torch.Size([64, 100])\n",
            "logvar Sample: torch.Size([64, 100])\n",
            "Z Sample: torch.Size([64, 256])\n",
            "mu Sample: torch.Size([64, 100])\n",
            "logvar Sample: torch.Size([64, 100])\n",
            "Z Sample: torch.Size([64, 256])\n",
            "mu Sample: torch.Size([64, 100])\n",
            "logvar Sample: torch.Size([64, 100])\n",
            "Z Sample: torch.Size([64, 256])\n",
            "mu Sample: torch.Size([64, 100])\n",
            "logvar Sample: torch.Size([64, 100])\n",
            "Z Sample: torch.Size([64, 256])\n",
            "mu Sample: torch.Size([64, 100])\n",
            "logvar Sample: torch.Size([64, 100])\n",
            "Z Sample: torch.Size([64, 256])\n",
            "mu Sample: torch.Size([64, 100])\n",
            "logvar Sample: torch.Size([64, 100])\n",
            "Z Sample: torch.Size([64, 256])\n",
            "mu Sample: torch.Size([64, 100])\n",
            "logvar Sample: torch.Size([64, 100])\n",
            "Z Sample: torch.Size([64, 256])\n",
            "mu Sample: torch.Size([64, 100])\n",
            "logvar Sample: torch.Size([64, 100])\n",
            "Z Sample: torch.Size([64, 256])\n",
            "mu Sample: torch.Size([64, 100])\n",
            "logvar Sample: torch.Size([64, 100])\n",
            "Z Sample: torch.Size([64, 256])\n",
            "mu Sample: torch.Size([64, 100])\n",
            "logvar Sample: torch.Size([64, 100])\n",
            "Z Sample: torch.Size([64, 256])\n",
            "mu Sample: torch.Size([64, 100])\n",
            "logvar Sample: torch.Size([64, 100])\n",
            "Z Sample: torch.Size([64, 256])\n",
            "mu Sample: torch.Size([64, 100])\n",
            "logvar Sample: torch.Size([64, 100])\n",
            "Z Sample: torch.Size([64, 256])\n",
            "mu Sample: torch.Size([64, 100])\n",
            "logvar Sample: torch.Size([64, 100])\n",
            "Z Sample: torch.Size([64, 256])\n",
            "mu Sample: torch.Size([64, 100])\n",
            "logvar Sample: torch.Size([64, 100])\n",
            "Z Sample: torch.Size([64, 256])\n",
            "mu Sample: torch.Size([64, 100])\n",
            "logvar Sample: torch.Size([64, 100])\n",
            "Z Sample: torch.Size([64, 256])\n",
            "mu Sample: torch.Size([64, 100])\n",
            "logvar Sample: torch.Size([64, 100])\n",
            "Z Sample: torch.Size([16, 256])\n",
            "mu Sample: torch.Size([16, 100])\n",
            "logvar Sample: torch.Size([16, 100])\n",
            "Epoch[1/1] Loss: 16.932 ,BCE: 16.654 ,KLD: 0.278\n"
          ],
          "name": "stdout"
        }
      ]
    },
    {
      "metadata": {
        "id": "L37Rm9Jf9qTM",
        "colab_type": "code",
        "colab": {}
      },
      "cell_type": "code",
      "source": [
        "torch.save(model.state_dict(), 'model.torch')"
      ],
      "execution_count": 0,
      "outputs": []
    },
    {
      "metadata": {
        "id": "8PQZAB6X9qK8",
        "colab_type": "code",
        "colab": {}
      },
      "cell_type": "code",
      "source": [
        "# Q(z|X) -- encoder\n",
        "# P(X|z) -- decoder\n",
        "#p(z) -- latent\n"
      ],
      "execution_count": 0,
      "outputs": []
    },
    {
      "metadata": {
        "id": "XuNoekAZLNQq",
        "colab_type": "code",
        "colab": {
          "base_uri": "https://localhost:8080/",
          "height": 34
        },
        "outputId": "256b5741-f427-4349-ac78-dbef5e3f6b60"
      },
      "cell_type": "code",
      "source": [
        "   \n",
        "VAE.reparameterize(samples, mu, logvar ).shape"
      ],
      "execution_count": 93,
      "outputs": [
        {
          "output_type": "execute_result",
          "data": {
            "text/plain": [
              "torch.Size([16, 100])"
            ]
          },
          "metadata": {
            "tags": []
          },
          "execution_count": 93
        }
      ]
    },
    {
      "metadata": {
        "id": "MwA0kEOwJc9X",
        "colab_type": "code",
        "colab": {
          "base_uri": "https://localhost:8080/",
          "height": 34
        },
        "outputId": "d9117ccc-5233-4460-880d-fa966a111b3d"
      },
      "cell_type": "code",
      "source": [
        "mu.shape, logvar.shape, *mu.size()"
      ],
      "execution_count": 94,
      "outputs": [
        {
          "output_type": "execute_result",
          "data": {
            "text/plain": [
              "(torch.Size([16, 100]), torch.Size([16, 100]), 16, 100)"
            ]
          },
          "metadata": {
            "tags": []
          },
          "execution_count": 94
        }
      ]
    },
    {
      "metadata": {
        "id": "fTivrTFtGeFL",
        "colab_type": "code",
        "colab": {
          "base_uri": "https://localhost:8080/",
          "height": 34
        },
        "outputId": "5df1449d-25cc-4a0f-f967-6b046d324ff3"
      },
      "cell_type": "code",
      "source": [
        "samples.shape"
      ],
      "execution_count": 48,
      "outputs": [
        {
          "output_type": "execute_result",
          "data": {
            "text/plain": [
              "(64, 200)"
            ]
          },
          "metadata": {
            "tags": []
          },
          "execution_count": 48
        }
      ]
    },
    {
      "metadata": {
        "id": "9Rg76MF3LeyN",
        "colab_type": "code",
        "colab": {
          "base_uri": "https://localhost:8080/",
          "height": 158
        },
        "outputId": "f1dedbf5-a10e-4475-b93e-99dc9392d95f"
      },
      "cell_type": "code",
      "source": [
        "samples = 1\n",
        "VAE.reparameterize(samples, mu, logvar )"
      ],
      "execution_count": 60,
      "outputs": [
        {
          "output_type": "execute_result",
          "data": {
            "text/plain": [
              "tensor([[ 3.3623, -2.7804,  0.0306,  ...,  4.7335,  9.9282,  6.1377],\n",
              "        [ 1.6541,  6.9573,  8.7320,  ..., -4.6363, -1.7757, -3.1410],\n",
              "        [ 5.5164, -3.8020, 11.5449,  ...,  3.6949,  4.8117, 10.9112],\n",
              "        ...,\n",
              "        [ 2.0829, -8.8239,  1.7025,  ...,  4.9609,  8.4749, -3.5718],\n",
              "        [ 6.9039, -1.2812,  7.2364,  ..., -4.8858, -2.0875,  5.6604],\n",
              "        [ 2.1423,  0.7044,  5.5812,  ..., -8.6444, -1.2360, -4.2754]],\n",
              "       grad_fn=<AddBackward0>)"
            ]
          },
          "metadata": {
            "tags": []
          },
          "execution_count": 60
        }
      ]
    },
    {
      "metadata": {
        "id": "UrW6Oy72LNOK",
        "colab_type": "code",
        "colab": {}
      },
      "cell_type": "code",
      "source": [
        "for epoch in range(epochs):\n",
        "    for idx, (images) in enumerate(valid):\n",
        "      print(images.shape)\n",
        "        #recon_images, z, h, mu, logvar = model(images)\n",
        "        "
      ],
      "execution_count": 0,
      "outputs": []
    },
    {
      "metadata": {
        "id": "nKgWkauXLNLY",
        "colab_type": "code",
        "colab": {}
      },
      "cell_type": "code",
      "source": [
        "from keras.layers import Input, Dense, Lambda\n",
        "\n",
        "m= 64\n",
        "k = 200\n",
        "l = 100\n",
        "\n",
        "def sample_z(args):\n",
        "    mu, log_sigma = args\n",
        "    eps = K.random_normal(shape=(m, k, l), mean=0., std=1.)\n",
        "    return mu + K.exp(log_sigma / 2) * eps\n",
        "\n",
        "\n",
        "# Sample z ~ Q(z|X)\n",
        "z = Lambda(sample_z)([mu, logvar])"
      ],
      "execution_count": 0,
      "outputs": []
    },
    {
      "metadata": {
        "id": "z-rfFogCLNIj",
        "colab_type": "code",
        "colab": {}
      },
      "cell_type": "code",
      "source": [
        ""
      ],
      "execution_count": 0,
      "outputs": []
    },
    {
      "metadata": {
        "id": "P4pp4be4LNGS",
        "colab_type": "code",
        "colab": {}
      },
      "cell_type": "code",
      "source": [
        ""
      ],
      "execution_count": 0,
      "outputs": []
    },
    {
      "metadata": {
        "id": "G87OirLlLNDm",
        "colab_type": "code",
        "colab": {}
      },
      "cell_type": "code",
      "source": [
        ""
      ],
      "execution_count": 0,
      "outputs": []
    },
    {
      "metadata": {
        "id": "0Ezx-K90LNBL",
        "colab_type": "code",
        "colab": {}
      },
      "cell_type": "code",
      "source": [
        ""
      ],
      "execution_count": 0,
      "outputs": []
    },
    {
      "metadata": {
        "id": "A2xRz5WKLM-T",
        "colab_type": "code",
        "colab": {}
      },
      "cell_type": "code",
      "source": [
        ""
      ],
      "execution_count": 0,
      "outputs": []
    },
    {
      "metadata": {
        "id": "g8DZWt3kLM7r",
        "colab_type": "code",
        "colab": {}
      },
      "cell_type": "code",
      "source": [
        ""
      ],
      "execution_count": 0,
      "outputs": []
    },
    {
      "metadata": {
        "id": "AaEut84nLM3t",
        "colab_type": "code",
        "colab": {}
      },
      "cell_type": "code",
      "source": [
        ""
      ],
      "execution_count": 0,
      "outputs": []
    },
    {
      "metadata": {
        "id": "mS0RJ_oV9qIc",
        "colab_type": "code",
        "colab": {}
      },
      "cell_type": "code",
      "source": [
        ""
      ],
      "execution_count": 0,
      "outputs": []
    },
    {
      "metadata": {
        "id": "dhJyYzMx9qF1",
        "colab_type": "code",
        "colab": {}
      },
      "cell_type": "code",
      "source": [
        ""
      ],
      "execution_count": 0,
      "outputs": []
    },
    {
      "metadata": {
        "id": "AEujZk_k9qC1",
        "colab_type": "code",
        "colab": {}
      },
      "cell_type": "code",
      "source": [
        ""
      ],
      "execution_count": 0,
      "outputs": []
    }
  ]
}